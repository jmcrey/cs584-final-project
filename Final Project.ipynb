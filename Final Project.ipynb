{
 "cells": [
  {
   "cell_type": "markdown",
   "metadata": {},
   "source": [
    "# Training a Custom Entailment Model"
   ]
  },
  {
   "cell_type": "code",
   "execution_count": 83,
   "metadata": {},
   "outputs": [],
   "source": [
    "import os\n",
    "import numpy as np\n",
    "from tqdm import tqdm\n",
    "from typing import Tuple, Dict, List\n",
    "\n",
    "import torch\n",
    "import torch.nn as nn\n",
    "import torch.optim as optim\n",
    "\n",
    "from allennlp.predictors.predictor import Predictor\n",
    "from models.textual_entailment import TextualEntailment\n",
    "from datasets.arrow_dataset import Dataset\n",
    "\n",
    "\n",
    "class Entailment:\n",
    "    \n",
    "    def __init__(self, load_elmo: bool = True, input_dim: int = 400):\n",
    "        self.input_dim = 400\n",
    "        if load_elmo:\n",
    "            self._frozen = Predictor.from_path(\"./models/textual_entailment.tar.gz\", cuda_device=0)\n",
    "        self._model = self._model()\n",
    "        \n",
    "    def _map(self, label: int) -> str:\n",
    "        \"\"\" Maps the label to the value \"\"\"\n",
    "        switcher = {\n",
    "            0: 'SUPPORTS',\n",
    "            1: 'NOT ENOUGH INFO',\n",
    "            2: 'REFUTES'\n",
    "        }\n",
    "        return switcher[label]\n",
    "\n",
    "    def _model(self) -> nn.Sequential:\n",
    "        \"\"\" Builds the MLP for the classification \"\"\"\n",
    "        model = nn.Sequential(\n",
    "          nn.Linear(400,100),\n",
    "          nn.ReLU(),\n",
    "          nn.Linear(100,3),\n",
    "          nn.Softmax(dim=1)\n",
    "        )\n",
    "        model.cuda()\n",
    "        return model\n",
    "    \n",
    "    def save(self, path: str = './models/entailment.model') -> None:\n",
    "        \"\"\" Saves the model to the file \"\"\"\n",
    "        torch.save(self._model.state_dict(), path)\n",
    "        \n",
    "    def load(self, path: str = './models/entailment.model') -> bool:\n",
    "        \"\"\" Loads the model, if possible \"\"\"\n",
    "        if os.path.exists(path):\n",
    "            self._model.load_state_dict(torch.load(path))\n",
    "            return True\n",
    "        raise ValueError(f\"Path {path} is not valid\")\n",
    "\n",
    "    def entail_dataset(self, dataset: Dataset, batch_size: int = 50, \n",
    "                       total_size: int = 30000) -> Tuple[torch.Tensor, torch.Tensor]:\n",
    "        \"\"\" Entails all the data and returns the entailed texts \"\"\"\n",
    "        dataset = dataset.shuffle(seed=42)[:total_size]\n",
    "        X = self.entail_batch(dataset['premise'], dataset['hypothesis'], batch_size)\n",
    "        y = torch.tensor(dataset['label'])\n",
    "        return X, y\n",
    "    \n",
    "    def entail_batch(self, premises: List[str], hypotheses: List[str], batch_size: int = 50) -> np.ndarray:\n",
    "        \"\"\" Entails all the data and returns the entailed texts \"\"\"\n",
    "        batches = [dict(premise=v[0], hypothesis=v[1]) for v in zip(premises, hypotheses)]\n",
    "        total_size = len(batches)\n",
    "        \n",
    "        if total_size < batch_size:\n",
    "            batch_size = total_size\n",
    "            \n",
    "        iters = int(total_size / batch_size)\n",
    "        X = list()\n",
    "        \n",
    "        start = 0\n",
    "        for j in tqdm(range(iters)):\n",
    "            end = start + batch_size\n",
    "            batch_json = self._frozen.predict_batch_json(batches[start:end])\n",
    "            X.extend([e['aggregate_input'] for e in batch_json])\n",
    "            start = end\n",
    "        return torch.tensor(X)\n",
    "        \n",
    "    def predict(self, premises: List[str], hypotheses: List[str], batch_size: int = 50) -> torch.Tensor:\n",
    "        \"\"\" Predicts the next word for the text \"\"\"\n",
    "        embedding = self.entail_batch(premises, hypotheses)\n",
    "        embedding = embedding.cuda()\n",
    "        preds = self._model(embedding)\n",
    "        return preds\n",
    "    \n",
    "    def evaluate(self, X: np.ndarray, y: np.ndarray) -> Tuple[float, float]:\n",
    "        \"\"\" Evaluates the model on the test set \"\"\"\n",
    "        n, _ = X.size()\n",
    "        val = self._model(X)\n",
    "        preds = torch.argmax(val, dim=1)\n",
    "        total = float(sum(preds == y)) / n\n",
    "        return total\n",
    "\n",
    "    def fit(self, X_train: torch.Tensor, y_train: torch.Tensor, X_val: torch.Tensor, y_val: torch.Tensor, \n",
    "            batch_size: int = 32, epochs: int = 100, shuffle: bool = True) -> Tuple[np.ndarray, np.ndarray, np.ndarray, np.ndarray]:\n",
    "        \"\"\" Fits the data on the model \"\"\"\n",
    "        criterion = nn.CrossEntropyLoss()\n",
    "        optimizer = optim.Adam(self._model.parameters(), lr=1E-3)\n",
    "        \n",
    "        X_train = X_train.cuda()\n",
    "        y_train = y_train.long().cuda()\n",
    "        X_val = X_val.cuda()\n",
    "        y_val = y_val.long().cuda()\n",
    "        \n",
    "        n, _ = X_train.shape\n",
    "        tr_iters = int(n / batch_size)\n",
    "        \n",
    "        n, _ = X_val.shape\n",
    "        val_iters = int(n / batch_size)\n",
    "        \n",
    "        train_loss = np.zeros(epochs)\n",
    "        train_acc = np.zeros(epochs)\n",
    "        validation_loss = np.zeros(epochs)\n",
    "        validation_acc = np.zeros(epochs)\n",
    "        for epoch in range(epochs):\n",
    "            # Train and Validation Loss\n",
    "            total_loss = self._fit(X_train, y_train, criterion, optimizer, tr_iters, batch_size, shuffle)\n",
    "            val_loss = self._loss(X_val, y_val, criterion, val_iters, batch_size, shuffle)\n",
    "            \n",
    "            total_acc = self.evaluate(X_train, y_train)\n",
    "            val_acc = self.evaluate(X_val, y_val)\n",
    "            \n",
    "            print('[%d] loss: %.7f acc: %.7f \\t val_loss: %.7f val_acc: %.7f' % \n",
    "                  (epoch + 1, total_loss, total_acc, val_loss, val_acc)\n",
    "                 )\n",
    "            \n",
    "            train_loss[epoch] = total_loss\n",
    "            train_acc[epoch] = total_acc\n",
    "            \n",
    "            validation_loss[epoch] = val_loss\n",
    "            validation_acc[epoch] = val_acc\n",
    "        return train_loss, train_acc, validation_loss, validation_acc\n",
    "    \n",
    "    def _fit(self, X: torch.Tensor, y: torch.Tensor, criterion: nn.CrossEntropyLoss, \n",
    "             optimizer: optim.Adam, num_iters: int, batch_size: int = 32, \n",
    "             shuffle: bool = True) -> Tuple[float, float]:\n",
    "        \"\"\" Runs an epoch of training \"\"\"\n",
    "        total_loss = 0.0\n",
    "        if shuffle: \n",
    "            indices = np.random.permutation(range(X.shape[0]))\n",
    "        else:\n",
    "            indices = list(range(X.shape[0]))\n",
    "\n",
    "        start = 0\n",
    "        for i in range(num_iters):\n",
    "            end = start + batch_size\n",
    "            i = indices[start:end]\n",
    "            xi, yi = X[i], y[i]\n",
    "\n",
    "            # zero the parameter gradients\n",
    "            optimizer.zero_grad()\n",
    "\n",
    "            # forward + backward + optimize\n",
    "            outputs = self._model(xi)\n",
    "            loss = criterion(outputs, yi)\n",
    "            loss.backward()\n",
    "            optimizer.step()\n",
    "\n",
    "            total_loss += loss.item()\n",
    "            start = end\n",
    "\n",
    "        total_loss /= X.shape[0]\n",
    "        return total_loss\n",
    "    \n",
    "    def _loss(self, X: torch.Tensor, y: torch.Tensor, criterion: nn.CrossEntropyLoss, \n",
    "              num_iters: int, batch_size: int = 32, shuffle: bool = True) -> Tuple[float, float]:\n",
    "        \"\"\" Runs an epoch of training \"\"\"\n",
    "        total_loss = 0.0\n",
    "\n",
    "        if shuffle: \n",
    "            indices = np.random.permutation(range(X.shape[0]))\n",
    "        else:\n",
    "            indices = list(range(X.shape[0]))\n",
    "\n",
    "        start = 0\n",
    "        for i in range(num_iters):\n",
    "            end = start + batch_size\n",
    "            i = indices[start:end]\n",
    "            xi, yi = X[i], y[i]\n",
    "\n",
    "            # forward + loss\n",
    "            outputs = self._model(xi)\n",
    "            loss = criterion(outputs, yi)\n",
    "            total_loss += loss.item()\n",
    "            start = end\n",
    "        total_loss /= X.shape[0]\n",
    "        return total_loss\n"
   ]
  },
  {
   "cell_type": "markdown",
   "metadata": {},
   "source": [
    "**Warning**: Do not run the below code unless you want to regenerate the entailments. **THIS TAKES A LONG TIME TO DO**"
   ]
  },
  {
   "cell_type": "markdown",
   "metadata": {},
   "source": [
    "```\n",
    "from datasets import load_dataset\n",
    "from datasets.arrow_dataset import Dataset\n",
    "\n",
    "snli_data = load_dataset('snli')\n",
    "```"
   ]
  },
  {
   "cell_type": "markdown",
   "metadata": {},
   "source": [
    "```\n",
    "snli_data['train'].shape, snli_data['validation'].shape, snli_data['test'].shape\n",
    "```"
   ]
  },
  {
   "cell_type": "markdown",
   "metadata": {},
   "source": [
    "```\n",
    "entailment = Entailment()\n",
    "```"
   ]
  },
  {
   "cell_type": "markdown",
   "metadata": {},
   "source": [
    "```\n",
    "def get_balanced_data(entailment: Entailment, data: Dataset) -> Tuple[np.ndarray, np.ndarray]:\n",
    "    \"\"\" Gets the training data for the entailment model \"\"\"\n",
    "    entailments = data.filter(lambda x: x['label'] == 0)\n",
    "    neutrals = data.filter(lambda x: x['label'] == 1)\n",
    "    contradictions = data.filter(lambda x: x['label'] == 2)\n",
    "    X_entail, y_entail = entailment.entail_dataset(entailments, batch_size=100, total_size=100000)\n",
    "    X_neutral, y_neutral = entailment.entail_dataset(neutrals, batch_size=100, total_size=100000)\n",
    "    X_contra, y_contra = entailment.entail_dataset(contradictions, batch_size=100, total_size=100000)\n",
    "    X_train = torch.vstack((X_entail, X_neutral))\n",
    "    X_train = torch.vstack((X_train, X_contra))\n",
    "    y_train = torch.hstack((y_entail, y_neutral))\n",
    "    y_train = torch.hstack((y_train, y_contra))\n",
    "    return X_train, y_train\n",
    "\n",
    "X_train, y_train = get_balanced_data(entailment, snli_data['train'])\n",
    "X_train.shape, y_train.shape\n",
    "```"
   ]
  },
  {
   "cell_type": "markdown",
   "metadata": {},
   "source": [
    "```\n",
    "sum(y_train == 0), sum(y_train == 1), sum(y_train == 2)\n",
    "```"
   ]
  },
  {
   "cell_type": "markdown",
   "metadata": {},
   "source": [
    "```\n",
    "x_train_path = './data/x_train.pt'\n",
    "torch.save(X_train, x_train_path)\n",
    "\n",
    "y_train_path = './data/y_train.pt'\n",
    "torch.save(y_train, y_train_path)\n",
    "```"
   ]
  },
  {
   "cell_type": "markdown",
   "metadata": {},
   "source": [
    "```\n",
    "total_val = snli_data['validation'].shape[0]\n",
    "X_val, y_val = entailment.entail_dataset(snli_data['validation'], batch_size=100, total_size=total_val)\n",
    "X_val.shape, y_val.shape\n",
    "```"
   ]
  },
  {
   "cell_type": "markdown",
   "metadata": {},
   "source": [
    "```\n",
    "x_val_path = './data/x_validation.pt'\n",
    "torch.save(X_val, x_val_path)\n",
    "\n",
    "y_val_path = './data/y_validation.pt'\n",
    "torch.save(y_val, y_val_path)\n",
    "```"
   ]
  },
  {
   "cell_type": "markdown",
   "metadata": {},
   "source": [
    "```\n",
    "total_test = snli_data['test'].shape[0]\n",
    "X_test, y_test = entailment.entail_dataset(snli_data['test'], batch_size=100, total_size=total_test)\n",
    "X_test.shape, y_test.shape\n",
    "```"
   ]
  },
  {
   "cell_type": "markdown",
   "metadata": {},
   "source": [
    "```\n",
    "x_test_path = './data/x_test.pt'\n",
    "torch.save(X_test, x_test_path)\n",
    "\n",
    "y_test_path = './data/y_test.pt'\n",
    "torch.save(y_test, y_test_path)\n",
    "```"
   ]
  },
  {
   "cell_type": "code",
   "execution_count": 2,
   "metadata": {},
   "outputs": [],
   "source": [
    "def load_arrays(x_path: str, y_path: str) -> Tuple[torch.Tensor, torch.Tensor]:\n",
    "    X = torch.load(x_path)\n",
    "    y = torch.load(y_path)\n",
    "    return X, y"
   ]
  },
  {
   "cell_type": "code",
   "execution_count": 3,
   "metadata": {},
   "outputs": [
    {
     "data": {
      "text/plain": [
       "(torch.Size([300000, 400]), torch.Size([300000]))"
      ]
     },
     "execution_count": 3,
     "metadata": {},
     "output_type": "execute_result"
    }
   ],
   "source": [
    "x_train_path = './data/x_train.pt'\n",
    "y_train_path = './data/y_train.pt'\n",
    "\n",
    "X_train, y_train = load_arrays(x_train_path, y_train_path)\n",
    "X_train.shape, y_train.shape"
   ]
  },
  {
   "cell_type": "code",
   "execution_count": 4,
   "metadata": {},
   "outputs": [
    {
     "data": {
      "text/plain": [
       "(tensor(100000), tensor(100000), tensor(100000))"
      ]
     },
     "execution_count": 4,
     "metadata": {},
     "output_type": "execute_result"
    }
   ],
   "source": [
    "sum(y_train == 0), sum(y_train == 1), sum(y_train == 2)"
   ]
  },
  {
   "cell_type": "code",
   "execution_count": 5,
   "metadata": {},
   "outputs": [
    {
     "data": {
      "text/plain": [
       "(torch.Size([9842, 400]), torch.Size([9842]))"
      ]
     },
     "execution_count": 5,
     "metadata": {},
     "output_type": "execute_result"
    }
   ],
   "source": [
    "x_val_path = './data/x_validation.pt'\n",
    "y_val_path = './data/y_validation.pt'\n",
    "\n",
    "X_val, y_val = load_arrays(x_val_path, y_val_path)\n",
    "\n",
    "pos = torch.nonzero(y_val != -1)  # Remove -1\n",
    "pos = pos.reshape(pos.size()[0])  # Remove -1\n",
    "\n",
    "X_val = X_val[pos]\n",
    "y_val = y_val[pos]\n",
    "\n",
    "X_val.shape, y_val.shape"
   ]
  },
  {
   "cell_type": "code",
   "execution_count": 6,
   "metadata": {},
   "outputs": [
    {
     "data": {
      "text/plain": [
       "(tensor(3329), tensor(3235))"
      ]
     },
     "execution_count": 6,
     "metadata": {},
     "output_type": "execute_result"
    }
   ],
   "source": [
    "sum(y_val == 0), sum(y_val == 1)"
   ]
  },
  {
   "cell_type": "code",
   "execution_count": 7,
   "metadata": {},
   "outputs": [
    {
     "data": {
      "text/plain": [
       "(torch.Size([9824, 400]), torch.Size([9824]))"
      ]
     },
     "execution_count": 7,
     "metadata": {},
     "output_type": "execute_result"
    }
   ],
   "source": [
    "x_test_path = './data/x_test.pt'\n",
    "y_test_path = './data/y_test.pt'\n",
    "\n",
    "X_test, y_test = load_arrays(x_test_path, y_test_path)\n",
    "\n",
    "pos = torch.nonzero(y_test != -1)  # Remove -1\n",
    "pos = pos.reshape(pos.size()[0])  # Remove -1\n",
    "\n",
    "X_test = X_test[pos]\n",
    "y_test = y_test[pos]\n",
    "\n",
    "X_test.shape, y_test.shape"
   ]
  },
  {
   "cell_type": "code",
   "execution_count": 8,
   "metadata": {},
   "outputs": [
    {
     "data": {
      "text/plain": [
       "(tensor(3368), tensor(3219))"
      ]
     },
     "execution_count": 8,
     "metadata": {},
     "output_type": "execute_result"
    }
   ],
   "source": [
    "sum(y_test == 0), sum(y_test == 1)"
   ]
  },
  {
   "cell_type": "code",
   "execution_count": 9,
   "metadata": {},
   "outputs": [],
   "source": [
    "entailment = Entailment(False)"
   ]
  },
  {
   "cell_type": "code",
   "execution_count": 10,
   "metadata": {},
   "outputs": [
    {
     "name": "stdout",
     "output_type": "stream",
     "text": [
      "[1] loss: 0.0205580 acc: 0.8926800 \t val_loss: 0.0215004 val_acc: 0.8585653\n",
      "[2] loss: 0.0203489 acc: 0.9008433 \t val_loss: 0.0213094 val_acc: 0.8663889\n",
      "[3] loss: 0.0202893 acc: 0.9038533 \t val_loss: 0.0212813 val_acc: 0.8653729\n",
      "[4] loss: 0.0202557 acc: 0.9017500 \t val_loss: 0.0213416 val_acc: 0.8642552\n",
      "[5] loss: 0.0202150 acc: 0.9056867 \t val_loss: 0.0212463 val_acc: 0.8672018\n",
      "[6] loss: 0.0201876 acc: 0.9050367 \t val_loss: 0.0213716 val_acc: 0.8627312\n",
      "[7] loss: 0.0201700 acc: 0.9064367 \t val_loss: 0.0212367 val_acc: 0.8686243\n",
      "[8] loss: 0.0201386 acc: 0.9074167 \t val_loss: 0.0212640 val_acc: 0.8672018\n",
      "[9] loss: 0.0201345 acc: 0.9068500 \t val_loss: 0.0212183 val_acc: 0.8687259\n",
      "[10] loss: 0.0201165 acc: 0.9089167 \t val_loss: 0.0213008 val_acc: 0.8651697\n"
     ]
    }
   ],
   "source": [
    "loss, acc, val_loss, val_acc = entailment.fit(X_train, y_train, X_val, y_val, epochs=10)"
   ]
  },
  {
   "cell_type": "code",
   "execution_count": 12,
   "metadata": {},
   "outputs": [
    {
     "data": {
      "image/png": "[encoded data removed]",
      "text/plain": [
       "<Figure size 432x288 with 1 Axes>"
      ]
     },
     "metadata": {
      "needs_background": "light"
     },
     "output_type": "display_data"
    }
   ],
   "source": [
    "import matplotlib.pyplot as plt\n",
    "%matplotlib inline\n",
    "\n",
    "epochs = list(range(10))\n",
    "\n",
    "plt.plot(epochs, loss, 'bo', label='Training loss')\n",
    "plt.plot(epochs, val_loss, 'r', label='Validation loss')\n",
    "plt.xlabel('Epochs')\n",
    "plt.ylabel('Loss')\n",
    "plt.legend()\n",
    "plt.show()"
   ]
  },
  {
   "cell_type": "code",
   "execution_count": 13,
   "metadata": {},
   "outputs": [
    {
     "data": {
      "image/png": "[encoded data removed]",
      "text/plain": [
       "<Figure size 432x288 with 1 Axes>"
      ]
     },
     "metadata": {
      "needs_background": "light"
     },
     "output_type": "display_data"
    }
   ],
   "source": [
    "plt.plot(epochs, acc, 'bo', label='Training loss')\n",
    "plt.plot(epochs, val_acc, 'r', label='Validation loss')\n",
    "plt.xlabel('Epochs')\n",
    "plt.ylabel('Accuracy')\n",
    "plt.legend()\n",
    "plt.show()"
   ]
  },
  {
   "cell_type": "code",
   "execution_count": 14,
   "metadata": {},
   "outputs": [],
   "source": [
    "entailment.save()"
   ]
  },
  {
   "cell_type": "code",
   "execution_count": 15,
   "metadata": {},
   "outputs": [
    {
     "data": {
      "text/plain": [
       "0.8560667752442996"
      ]
     },
     "execution_count": 15,
     "metadata": {},
     "output_type": "execute_result"
    }
   ],
   "source": [
    "entailment.evaluate(X_test.cuda(), y_test.long().cuda())"
   ]
  },
  {
   "cell_type": "code",
   "execution_count": 16,
   "metadata": {},
   "outputs": [
    {
     "data": {
      "text/plain": [
       "0.8560667752442996"
      ]
     },
     "execution_count": 16,
     "metadata": {},
     "output_type": "execute_result"
    }
   ],
   "source": [
    "model = Entailment(False)\n",
    "model.load()\n",
    "model.evaluate(X_test.cuda(), y_test.long().cuda())"
   ]
  },
  {
   "cell_type": "markdown",
   "metadata": {},
   "source": [
    "# The Facebook Experiment\n",
    "\n",
    "1. Implement automatic masking\n",
    "2. Get the top 1 prediction from the LM \n",
    "3. Fill in the mask\n",
    "4. Use the claim and filled in sentence and input into an entailment model\n",
    "5. Input entailment into MLP for final fact-verification prediction"
   ]
  },
  {
   "cell_type": "code",
   "execution_count": 18,
   "metadata": {},
   "outputs": [],
   "source": [
    "from operator import itemgetter\n",
    "from typing import Iterable, List, Tuple\n",
    "from sklearn.metrics import precision_recall_fscore_support, accuracy_score\n",
    "\n",
    "import os\n",
    "import spacy\n",
    "import numpy as np\n",
    "from tqdm import tqdm\n",
    "from typing import Optional, Tuple, Dict, List\n",
    "\n",
    "import torch\n",
    "import torch.nn as nn\n",
    "import torch.optim as optim\n",
    "\n",
    "from allennlp.predictors.predictor import Predictor\n",
    "from models.textual_entailment import TextualEntailment\n",
    "from datasets.arrow_dataset import Dataset\n",
    "\n",
    "\n",
    "class Pipeline:\n",
    "    \n",
    "    def __init__(self, tokenizer, unmasker, model):\n",
    "        self.device = \"cuda:0\" if torch.cuda.is_available() else \"cpu\"\n",
    "        self.nlp = spacy.load(\"en_core_web_sm\")\n",
    "        self.mask_token = tokenizer.mask_token\n",
    "        self.tokenizer = tokenizer\n",
    "        self.unmasker = unmasker.to(self.device)\n",
    "        self.model = model\n",
    "        self.vocab = tokenizer.get_vocab()\n",
    "        \n",
    "    def __call__(self, dataset: Dataset = None, limit: int = 0, save: bool = False, load: bool = False,\n",
    "                 path: str = None) -> Tuple[np.ndarray, np.ndarray]:\n",
    "        \"\"\" Performs all operations on the dataset \"\"\"\n",
    "        if (save or load) and not path:\n",
    "            raise ValueError(\"Must pass a path to save the processed dataset\")\n",
    "        \n",
    "        if load and os.path.exists(path):\n",
    "            dataset = load_dataset('csv', data_files=[path])['train']\n",
    "            return self.evaluate_dataset(dataset)\n",
    "        \n",
    "        print(\"Masking the claims and filling the masks for the dataset\")\n",
    "        data = self.mask_and_fill(dataset, limit)\n",
    "        if save:\n",
    "            print(\"Saving checkpoint...\")\n",
    "            data.to_csv(path)\n",
    "        return self.evaluate_dataset(data)\n",
    "        \n",
    "    def mask_and_fill(self, dataset: Dataset, limit: int = 0) -> Dataset:\n",
    "        \"\"\" Masks the entire dataset \"\"\"            \n",
    "        if limit != 0:\n",
    "            dataset = dataset.select(list(range(limit)))\n",
    "        data = dataset.map(self._mask)\n",
    "        data = data.filter(lambda x: x['masked'] is not None)\n",
    "        data = data.map(self._fill)\n",
    "        return data\n",
    "    \n",
    "    def _mask(self, x: dict) -> dict:\n",
    "        \"\"\" Masks the last named entity in the string \"\"\"\n",
    "        x['target'] = None\n",
    "        x['masked'] = None\n",
    "        x['label'] = self._map(x['label'])\n",
    "        claim = x['claim']\n",
    "        doc = self.nlp(claim, disable=[\"tok2vec\", \"tagger\", \"parser\", \"attribute_ruler\", \"lemmatizer\"])\n",
    "        ents = doc.ents\n",
    "        if ents:\n",
    "            target = self._get_target(ents)\n",
    "            if target:  # If the target is not in the vocab, skip the entry\n",
    "                masked = self.mask_token.join(claim.rsplit(target, 1))\n",
    "                x['target'] = target\n",
    "                x['masked'] = masked\n",
    "        return x\n",
    "    \n",
    "    def _get_target(self, ents) -> Optional[str]:\n",
    "        \"\"\" Gets the ideal target \"\"\"\n",
    "        for i in reversed(range(len(ents))):\n",
    "            words = ents[i].text.split()\n",
    "            for word in words:\n",
    "                if self.vocab.get(word):\n",
    "                    return word\n",
    "        return None\n",
    "            \n",
    "    def _fill(self, x: dict) -> dict:\n",
    "        \"\"\" Fills the masked token with the  top-1 predicted value \"\"\"\n",
    "        x['pred'] = self._predict(x['masked'])\n",
    "        x['hypothesis'] = x['masked'].replace(self.mask_token, x['pred'])\n",
    "        return x\n",
    "    \n",
    "    def _predict(self, masked_claim: str) -> str:\n",
    "        \"\"\" Fills the masked token with the  top-1 predicted value \"\"\"\n",
    "        tokens = self.tokenizer(masked_claim, return_tensors='pt')\n",
    "        masked_index = torch.nonzero(tokens['input_ids'][0] == self.tokenizer.mask_token_id, as_tuple=False)\n",
    "        # Fill mask pipeline supports only one ${mask_token} per sample\n",
    "        num = np.prod(masked_index.shape)\n",
    "        if num > 1 or num < 1:\n",
    "            print(masked_claim, tokens, masked_index)\n",
    "            raise ValueError(f\"Pipeline only supports one masked index: {num} is not supported\")\n",
    "\n",
    "        outputs = self.unmasker(**tokens.to(self.device))\n",
    "        logits = outputs.logits[0, masked_index.item(), :]\n",
    "        probs = logits.softmax(dim=0)\n",
    "        values, predictions = probs.topk(1)\n",
    "        word = self.tokenizer.decode(predictions)\n",
    "        return word.strip()\n",
    "    \n",
    "    def predict_batch(self, premises: List[str], hypotheses: List[str], batch_size: int = 50) -> np.ndarray:\n",
    "        \"\"\" Entails all the data and returns the entailed texts \"\"\"\n",
    "        batches = [dict(premise=v[0], hypothesis=v[1]) for v in zip(premises, hypotheses)]\n",
    "        total_size = len(batches)\n",
    "        \n",
    "        if total_size < batch_size:\n",
    "            batch_size = total_size\n",
    "            iters = 1\n",
    "        else:\n",
    "            iters = int(total_size / batch_size) + 1\n",
    "            \n",
    "        X = list()\n",
    "        \n",
    "        start = 0\n",
    "        for j in tqdm(range(iters)):\n",
    "            end = start + batch_size\n",
    "            if end >= total_size:\n",
    "                end = total_size\n",
    "            batch_json = self.model.predict_batch_json(batches[start:end])\n",
    "            X.extend([e['label_probs'] for e in batch_json])\n",
    "            start = end\n",
    "        return torch.tensor(X)\n",
    "    \n",
    "    def evaluate_dataset(self, dataset: Dataset) -> Tuple[np.ndarray, np.ndarray]:\n",
    "        \"\"\" Evaluates how well the model is able to predict \"\"\"\n",
    "        support = dataset.filter(lambda x: x['target'] == x['pred'])\n",
    "        entail = dataset.filter(lambda x: x['target'] != x['pred'])\n",
    "        assert support.shape[0] + entail.shape[0] == dataset.shape[0]\n",
    "        premise, hypothesis = entail['claim'], entail['hypothesis']\n",
    "        preds = torch.argmax(self.predict_batch(premise, hypothesis), dim=1)\n",
    "        \n",
    "        y_true = support['label']\n",
    "        y_true.extend(entail['label'])\n",
    "        y_pred = np.zeros(support.shape[0])\n",
    "        y_pred = np.concatenate((y_pred, preds), axis=None)\n",
    "        return y_true, y_pred\n",
    "    \n",
    "    def evaluate(self, y_true: List[int], y_pred: List[int]) -> tuple:\n",
    "        \"\"\" Evaluates how well the model is able to predict \"\"\"\n",
    "        metrics = precision_recall_fscore_support(y_true, y_pred)\n",
    "        macro = precision_recall_fscore_support(y_true, y_pred, average='macro')\n",
    "        acc = accuracy_score(y_true, y_pred)\n",
    "        return metrics, macro, acc\n",
    "    \n",
    "    def _map(self, label: int) -> str:\n",
    "        \"\"\" Maps the label to the value \"\"\"\n",
    "        switcher = {\n",
    "            'SUPPORTS': 0,\n",
    "            'NOT ENOUGH INFO': 1,\n",
    "            'REFUTES': 2\n",
    "        }\n",
    "        return switcher[label]"
   ]
  },
  {
   "cell_type": "code",
   "execution_count": 2,
   "metadata": {},
   "outputs": [
    {
     "name": "stderr",
     "output_type": "stream",
     "text": [
      "/home/jmack/anaconda3/envs/final-project/lib/python3.8/site-packages/torch/nn/modules/container.py:435: UserWarning: Setting attributes on ParameterList is not supported.\n",
      "  warnings.warn(\"Setting attributes on ParameterList is not supported.\")\n"
     ]
    }
   ],
   "source": [
    "entailment_model = Predictor.from_path(\"./models/decomposable-attention-elmo-2020.04.09.tar.gz\", cuda_device=0)"
   ]
  },
  {
   "cell_type": "code",
   "execution_count": 3,
   "metadata": {},
   "outputs": [
    {
     "name": "stderr",
     "output_type": "stream",
     "text": [
      "Reusing dataset fever (/home/jmack/.cache/huggingface/datasets/fever/v1.0/1.0.0/fe391c4f48669454ae0d368997430e6fa476aacb476d930d3328b67356e74625)\n"
     ]
    },
    {
     "data": {
      "text/plain": [
       "(18567, 7)"
      ]
     },
     "execution_count": 3,
     "metadata": {},
     "output_type": "execute_result"
    }
   ],
   "source": [
    "from datasets import load_dataset\n",
    "\n",
    "dataset = load_dataset('fever', 'v1.0')\n",
    "data = dataset['paper_test']\n",
    "data.shape"
   ]
  },
  {
   "cell_type": "code",
   "execution_count": 4,
   "metadata": {},
   "outputs": [
    {
     "name": "stderr",
     "output_type": "stream",
     "text": [
      "Some weights of the model checkpoint at bert-large-cased-whole-word-masking were not used when initializing BertForMaskedLM: ['cls.seq_relationship.weight', 'cls.seq_relationship.bias']\n",
      "- This IS expected if you are initializing BertForMaskedLM from the checkpoint of a model trained on another task or with another architecture (e.g. initializing a BertForSequenceClassification model from a BertForPreTraining model).\n",
      "- This IS NOT expected if you are initializing BertForMaskedLM from the checkpoint of a model that you expect to be exactly identical (initializing a BertForSequenceClassification model from a BertForSequenceClassification model).\n"
     ]
    }
   ],
   "source": [
    "from transformers import BertTokenizerFast, BertForMaskedLM\n",
    "\n",
    "bert_tokenizer = BertTokenizerFast.from_pretrained('bert-large-cased-whole-word-masking')\n",
    "bert_model = BertForMaskedLM.from_pretrained('bert-large-cased-whole-word-masking')"
   ]
  },
  {
   "cell_type": "code",
   "execution_count": 6,
   "metadata": {},
   "outputs": [],
   "source": [
    "pipe = Pipeline(bert_tokenizer, bert_model, entailment_model)"
   ]
  },
  {
   "cell_type": "markdown",
   "metadata": {},
   "source": [
    "**Remark**: Only needs to be run once, otherwise you can load the data directly using the second command"
   ]
  },
  {
   "cell_type": "code",
   "execution_count": 8,
   "metadata": {},
   "outputs": [
    {
     "name": "stdout",
     "output_type": "stream",
     "text": [
      "Masking the claims and filling the masks for the dataset\n"
     ]
    },
    {
     "data": {
      "application/vnd.jupyter.widget-view+json": {
       "model_id": "70915adba30e424d89e9b1f50fa99f11",
       "version_major": 2,
       "version_minor": 0
      },
      "text/plain": [
       "HBox(children=(FloatProgress(value=0.0, max=18567.0), HTML(value='')))"
      ]
     },
     "metadata": {},
     "output_type": "display_data"
    },
    {
     "name": "stdout",
     "output_type": "stream",
     "text": [
      "\n"
     ]
    },
    {
     "data": {
      "application/vnd.jupyter.widget-view+json": {
       "model_id": "8b8fb73e0aa2463a80e5c5ceae66d26e",
       "version_major": 2,
       "version_minor": 0
      },
      "text/plain": [
       "HBox(children=(FloatProgress(value=0.0, max=19.0), HTML(value='')))"
      ]
     },
     "metadata": {},
     "output_type": "display_data"
    },
    {
     "name": "stdout",
     "output_type": "stream",
     "text": [
      "\n"
     ]
    },
    {
     "data": {
      "application/vnd.jupyter.widget-view+json": {
       "model_id": "427f11685bd1409fa9ce667bcf3daa41",
       "version_major": 2,
       "version_minor": 0
      },
      "text/plain": [
       "HBox(children=(FloatProgress(value=0.0, max=14221.0), HTML(value='')))"
      ]
     },
     "metadata": {},
     "output_type": "display_data"
    },
    {
     "name": "stdout",
     "output_type": "stream",
     "text": [
      "\n",
      "Saving checkpoint...\n"
     ]
    },
    {
     "data": {
      "application/vnd.jupyter.widget-view+json": {
       "model_id": "65336fd4455e428b857eb7fb1c426a5d",
       "version_major": 2,
       "version_minor": 0
      },
      "text/plain": [
       "HBox(children=(FloatProgress(value=0.0, max=15.0), HTML(value='')))"
      ]
     },
     "metadata": {},
     "output_type": "display_data"
    },
    {
     "name": "stdout",
     "output_type": "stream",
     "text": [
      "\n"
     ]
    },
    {
     "data": {
      "application/vnd.jupyter.widget-view+json": {
       "model_id": "c7a0056c37ca43a5851e3b1ca61b2f02",
       "version_major": 2,
       "version_minor": 0
      },
      "text/plain": [
       "HBox(children=(FloatProgress(value=0.0, max=15.0), HTML(value='')))"
      ]
     },
     "metadata": {},
     "output_type": "display_data"
    },
    {
     "name": "stderr",
     "output_type": "stream",
     "text": [
      "\r",
      "  0%|          | 0/174 [00:00<?, ?it/s]"
     ]
    },
    {
     "name": "stdout",
     "output_type": "stream",
     "text": [
      "\n"
     ]
    },
    {
     "name": "stderr",
     "output_type": "stream",
     "text": [
      "100%|██████████| 174/174 [00:44<00:00,  3.88it/s]\n"
     ]
    }
   ],
   "source": [
    "bert_y_true, bert_y_pred = pipe(data, save=True, path='./data/bert_paper_test.csv') # Process"
   ]
  },
  {
   "cell_type": "code",
   "execution_count": null,
   "metadata": {},
   "outputs": [],
   "source": [
    "bert_y_true, bert_y_pred = pipe(data, load=True, path='./data/bert_paper_test.csv') # Load & Process"
   ]
  },
  {
   "cell_type": "code",
   "execution_count": 9,
   "metadata": {},
   "outputs": [
    {
     "data": {
      "text/plain": [
       "((array([0.40300727, 0.2565445 , 0.475382  ]),\n",
       "  array([0.88546016, 0.11441915, 0.05297011]),\n",
       "  array([0.55390904, 0.15825595, 0.09531915]),\n",
       "  array([5509, 3426, 5286])),\n",
       " (0.3783112587790822, 0.35094980450869645, 0.26916138272532764, None),\n",
       " 0.3902679136488292)"
      ]
     },
     "execution_count": 9,
     "metadata": {},
     "output_type": "execute_result"
    }
   ],
   "source": [
    "bert_metrics, bert_macro, bert_acc = pipe.evaluate(bert_y_true, bert_y_pred)\n",
    "bert_metrics, bert_macro, bert_acc"
   ]
  },
  {
   "cell_type": "markdown",
   "metadata": {},
   "source": [
    "# Broad Check on Models"
   ]
  },
  {
   "cell_type": "markdown",
   "metadata": {},
   "source": [
    "### BART\n",
    "\n",
    "- Unknown training dataset"
   ]
  },
  {
   "cell_type": "code",
   "execution_count": 10,
   "metadata": {},
   "outputs": [],
   "source": [
    "from transformers import BartTokenizerFast, BartForConditionalGeneration\n",
    "\n",
    "bart_tokenizer = BartTokenizerFast.from_pretrained(\"facebook/bart-large\")\n",
    "bart_model = BartForConditionalGeneration.from_pretrained(\"facebook/bart-large\")"
   ]
  },
  {
   "cell_type": "code",
   "execution_count": 11,
   "metadata": {},
   "outputs": [],
   "source": [
    "pipe = Pipeline(bart_tokenizer, bart_model, entailment_model)"
   ]
  },
  {
   "cell_type": "code",
   "execution_count": 12,
   "metadata": {},
   "outputs": [
    {
     "name": "stdout",
     "output_type": "stream",
     "text": [
      "Masking the claims and filling the masks for the dataset\n"
     ]
    },
    {
     "data": {
      "application/vnd.jupyter.widget-view+json": {
       "model_id": "0922939a6b7a4c7183ffade7f4c53caa",
       "version_major": 2,
       "version_minor": 0
      },
      "text/plain": [
       "HBox(children=(FloatProgress(value=0.0, max=18567.0), HTML(value='')))"
      ]
     },
     "metadata": {},
     "output_type": "display_data"
    },
    {
     "name": "stdout",
     "output_type": "stream",
     "text": [
      "\n"
     ]
    },
    {
     "data": {
      "application/vnd.jupyter.widget-view+json": {
       "model_id": "1b13b8ac6afe47f2818e994e31fb1867",
       "version_major": 2,
       "version_minor": 0
      },
      "text/plain": [
       "HBox(children=(FloatProgress(value=0.0, max=19.0), HTML(value='')))"
      ]
     },
     "metadata": {},
     "output_type": "display_data"
    },
    {
     "name": "stdout",
     "output_type": "stream",
     "text": [
      "\n"
     ]
    },
    {
     "data": {
      "application/vnd.jupyter.widget-view+json": {
       "model_id": "3682fe02dcf64fdcb549b9e4216b816f",
       "version_major": 2,
       "version_minor": 0
      },
      "text/plain": [
       "HBox(children=(FloatProgress(value=0.0, max=11561.0), HTML(value='')))"
      ]
     },
     "metadata": {},
     "output_type": "display_data"
    },
    {
     "name": "stdout",
     "output_type": "stream",
     "text": [
      "\n",
      "Saving checkpoint...\n"
     ]
    },
    {
     "data": {
      "application/vnd.jupyter.widget-view+json": {
       "model_id": "6c31605c11a44ffd991b7a4f65402b0d",
       "version_major": 2,
       "version_minor": 0
      },
      "text/plain": [
       "HBox(children=(FloatProgress(value=0.0, max=12.0), HTML(value='')))"
      ]
     },
     "metadata": {},
     "output_type": "display_data"
    },
    {
     "name": "stdout",
     "output_type": "stream",
     "text": [
      "\n"
     ]
    },
    {
     "data": {
      "application/vnd.jupyter.widget-view+json": {
       "model_id": "554c90cade5447839783542583e2b09c",
       "version_major": 2,
       "version_minor": 0
      },
      "text/plain": [
       "HBox(children=(FloatProgress(value=0.0, max=12.0), HTML(value='')))"
      ]
     },
     "metadata": {},
     "output_type": "display_data"
    },
    {
     "name": "stderr",
     "output_type": "stream",
     "text": [
      "\r",
      "  0%|          | 0/165 [00:00<?, ?it/s]"
     ]
    },
    {
     "name": "stdout",
     "output_type": "stream",
     "text": [
      "\n"
     ]
    },
    {
     "name": "stderr",
     "output_type": "stream",
     "text": [
      "100%|██████████| 165/165 [00:42<00:00,  3.88it/s]\n"
     ]
    }
   ],
   "source": [
    "bart_y_true, bart_y_pred = pipe(data, save=True, path='./data/bart_paper_test.csv') # Process"
   ]
  },
  {
   "cell_type": "code",
   "execution_count": 9,
   "metadata": {},
   "outputs": [
    {
     "name": "stderr",
     "output_type": "stream",
     "text": [
      "Using custom data configuration default-d0dc0df88bb2c1a2\n",
      "Reusing dataset csv (/home/jmack/.cache/huggingface/datasets/csv/default-d0dc0df88bb2c1a2/0.0.0/2dc6629a9ff6b5697d82c25b73731dd440507a69cbce8b425db50b751e8fcfd0)\n"
     ]
    },
    {
     "data": {
      "text/plain": [
       "(7309, 12)"
      ]
     },
     "execution_count": 9,
     "metadata": {},
     "output_type": "execute_result"
    }
   ],
   "source": [
    "bart_y_true, bart_y_pred = pipe(data, load=True, path='./data/bart_paper_test.csv') # Load"
   ]
  },
  {
   "cell_type": "code",
   "execution_count": 13,
   "metadata": {},
   "outputs": [
    {
     "data": {
      "text/plain": [
       "((array([0.39173097, 0.1962111 , 0.42461538]),\n",
       "  array([0.93115942, 0.05171184, 0.03178991]),\n",
       "  array([0.55146516, 0.08185154, 0.05915131]),\n",
       "  array([4416, 2804, 4341])),\n",
       " (0.33751915048157044, 0.33822039022568334, 0.23082267006517176, None),\n",
       " 0.38015742582821554)"
      ]
     },
     "execution_count": 13,
     "metadata": {},
     "output_type": "execute_result"
    }
   ],
   "source": [
    "bart_metrics, bart_macro, bart_acc = pipe.evaluate(bart_y_true, bart_y_pred)\n",
    "bart_metrics, bart_macro, bart_acc"
   ]
  },
  {
   "cell_type": "markdown",
   "metadata": {},
   "source": [
    "### RoBERTa\n",
    "\n",
    "- Trained on Bookcorpus, Wikipedia and CC News datasets"
   ]
  },
  {
   "cell_type": "code",
   "execution_count": 19,
   "metadata": {},
   "outputs": [
    {
     "name": "stderr",
     "output_type": "stream",
     "text": [
      "Some weights of the model checkpoint at google/bigbird-roberta-large were not used when initializing BigBirdForMaskedLM: ['cls.seq_relationship.weight', 'cls.seq_relationship.bias']\n",
      "- This IS expected if you are initializing BigBirdForMaskedLM from the checkpoint of a model trained on another task or with another architecture (e.g. initializing a BertForSequenceClassification model from a BertForPreTraining model).\n",
      "- This IS NOT expected if you are initializing BigBirdForMaskedLM from the checkpoint of a model that you expect to be exactly identical (initializing a BertForSequenceClassification model from a BertForSequenceClassification model).\n"
     ]
    }
   ],
   "source": [
    "from transformers import BigBirdTokenizer, BigBirdForMaskedLM\n",
    "  \n",
    "bigbird_tokenizer = BigBirdTokenizer.from_pretrained(\"google/bigbird-roberta-large\")\n",
    "bigbird_model = BigBirdForMaskedLM.from_pretrained(\"google/bigbird-roberta-large\")"
   ]
  },
  {
   "cell_type": "code",
   "execution_count": 20,
   "metadata": {},
   "outputs": [],
   "source": [
    "pipe = Pipeline(bigbird_tokenizer, bigbird_model, entailment_model)"
   ]
  },
  {
   "cell_type": "code",
   "execution_count": 21,
   "metadata": {},
   "outputs": [
    {
     "name": "stdout",
     "output_type": "stream",
     "text": [
      "Masking the claims and filling the masks for the dataset\n"
     ]
    },
    {
     "data": {
      "application/vnd.jupyter.widget-view+json": {
       "model_id": "f32ef32fb9fb42a4945fa65ba2c088c8",
       "version_major": 2,
       "version_minor": 0
      },
      "text/plain": [
       "HBox(children=(FloatProgress(value=0.0, max=18567.0), HTML(value='')))"
      ]
     },
     "metadata": {},
     "output_type": "display_data"
    },
    {
     "name": "stdout",
     "output_type": "stream",
     "text": [
      "\n"
     ]
    },
    {
     "data": {
      "application/vnd.jupyter.widget-view+json": {
       "model_id": "6d79c1599b8849a0813466e37671ca93",
       "version_major": 2,
       "version_minor": 0
      },
      "text/plain": [
       "HBox(children=(FloatProgress(value=0.0, max=19.0), HTML(value='')))"
      ]
     },
     "metadata": {},
     "output_type": "display_data"
    },
    {
     "name": "stdout",
     "output_type": "stream",
     "text": [
      "\n"
     ]
    },
    {
     "data": {
      "application/vnd.jupyter.widget-view+json": {
       "model_id": "8ff156b85df54c10b6db04423f52252e",
       "version_major": 2,
       "version_minor": 0
      },
      "text/plain": [
       "HBox(children=(FloatProgress(value=0.0, max=11561.0), HTML(value='')))"
      ]
     },
     "metadata": {},
     "output_type": "display_data"
    },
    {
     "name": "stderr",
     "output_type": "stream",
     "text": [
      "Attention type 'block_sparse' is not possible if sequence_length: 14 <= num global tokens: 2 * config.block_size + min. num sliding tokens: 3 * config.block_size + config.num_random_blocks * config.block_size + additional buffer: config.num_random_blocks * config.block_size = 704 with config.block_size = 64, config.num_random_blocks = 3.Changing attention type to 'original_full'...\n"
     ]
    },
    {
     "name": "stdout",
     "output_type": "stream",
     "text": [
      "\n",
      "Saving checkpoint...\n"
     ]
    },
    {
     "data": {
      "application/vnd.jupyter.widget-view+json": {
       "model_id": "b542a155ccf04754848b64b4b806220c",
       "version_major": 2,
       "version_minor": 0
      },
      "text/plain": [
       "HBox(children=(FloatProgress(value=0.0, max=12.0), HTML(value='')))"
      ]
     },
     "metadata": {},
     "output_type": "display_data"
    },
    {
     "name": "stdout",
     "output_type": "stream",
     "text": [
      "\n"
     ]
    },
    {
     "data": {
      "application/vnd.jupyter.widget-view+json": {
       "model_id": "fd8ffad097b546c4a80b6b594a3e8d66",
       "version_major": 2,
       "version_minor": 0
      },
      "text/plain": [
       "HBox(children=(FloatProgress(value=0.0, max=12.0), HTML(value='')))"
      ]
     },
     "metadata": {},
     "output_type": "display_data"
    },
    {
     "name": "stderr",
     "output_type": "stream",
     "text": [
      "\r",
      "  0%|          | 0/212 [00:00<?, ?it/s]"
     ]
    },
    {
     "name": "stdout",
     "output_type": "stream",
     "text": [
      "\n"
     ]
    },
    {
     "name": "stderr",
     "output_type": "stream",
     "text": [
      "100%|██████████| 212/212 [00:54<00:00,  3.90it/s]\n"
     ]
    }
   ],
   "source": [
    "bigbird_y_true, bigbird_y_pred = pipe(data, save=True, path='./data/bigbird_paper_test.csv') # Process"
   ]
  },
  {
   "cell_type": "code",
   "execution_count": null,
   "metadata": {},
   "outputs": [],
   "source": [
    "bigbird_y_true, bigbird_y_pred = pipe(data, load=True, path='./data/bigbird_paper_test.csv') # Load"
   ]
  },
  {
   "cell_type": "code",
   "execution_count": 22,
   "metadata": {},
   "outputs": [
    {
     "data": {
      "text/plain": [
       "((array([0.39132206, 0.20647773, 0.39072848]),\n",
       "  array([0.87001812, 0.07275321, 0.06795669]),\n",
       "  array([0.5398342 , 0.10759494, 0.11577708]),\n",
       "  array([4416, 2804, 4341])),\n",
       " (0.32950942371145736, 0.33690933921630234, 0.2544020721916476, None),\n",
       " 0.3754865496064354)"
      ]
     },
     "execution_count": 22,
     "metadata": {},
     "output_type": "execute_result"
    }
   ],
   "source": [
    "bb_metrics, bb_macro, bb_acc = pipe.evaluate(bigbird_y_true, bigbird_y_pred)\n",
    "bb_metrics, bb_macro, bb_acc"
   ]
  },
  {
   "cell_type": "markdown",
   "metadata": {},
   "source": [
    "## ALBERT v2\n",
    "\n",
    "- Model was trained on Bookcorpus and Wikipedia"
   ]
  },
  {
   "cell_type": "code",
   "execution_count": 5,
   "metadata": {},
   "outputs": [],
   "source": [
    "from transformers import AlbertTokenizerFast, AlbertForMaskedLM\n",
    "  \n",
    "albert_tokenizer = AlbertTokenizerFast.from_pretrained(\"albert-large-v2\")\n",
    "albert_model = AlbertForMaskedLM.from_pretrained(\"albert-large-v2\")"
   ]
  },
  {
   "cell_type": "code",
   "execution_count": 7,
   "metadata": {},
   "outputs": [
    {
     "name": "stdout",
     "output_type": "stream",
     "text": [
      "Masking the claims and filling the masks for the dataset\n"
     ]
    },
    {
     "data": {
      "application/vnd.jupyter.widget-view+json": {
       "model_id": "a36bca696d824480b819c797d58f0359",
       "version_major": 2,
       "version_minor": 0
      },
      "text/plain": [
       "HBox(children=(FloatProgress(value=0.0, max=18567.0), HTML(value='')))"
      ]
     },
     "metadata": {},
     "output_type": "display_data"
    },
    {
     "name": "stdout",
     "output_type": "stream",
     "text": [
      "\n"
     ]
    },
    {
     "data": {
      "application/vnd.jupyter.widget-view+json": {
       "model_id": "2967952deb9f456988e0f74393be00a2",
       "version_major": 2,
       "version_minor": 0
      },
      "text/plain": [
       "HBox(children=(FloatProgress(value=0.0, max=19.0), HTML(value='')))"
      ]
     },
     "metadata": {},
     "output_type": "display_data"
    },
    {
     "name": "stdout",
     "output_type": "stream",
     "text": [
      "\n"
     ]
    },
    {
     "data": {
      "application/vnd.jupyter.widget-view+json": {
       "model_id": "2a9f592e2d8a4f8782a286e540971ee6",
       "version_major": 2,
       "version_minor": 0
      },
      "text/plain": [
       "HBox(children=(FloatProgress(value=0.0, max=5092.0), HTML(value='')))"
      ]
     },
     "metadata": {},
     "output_type": "display_data"
    },
    {
     "name": "stdout",
     "output_type": "stream",
     "text": [
      "\n",
      "Saving checkpoint...\n"
     ]
    },
    {
     "data": {
      "application/vnd.jupyter.widget-view+json": {
       "model_id": "63b1811654454f38b804b00080f17bb9",
       "version_major": 2,
       "version_minor": 0
      },
      "text/plain": [
       "HBox(children=(FloatProgress(value=0.0, max=6.0), HTML(value='')))"
      ]
     },
     "metadata": {},
     "output_type": "display_data"
    },
    {
     "name": "stdout",
     "output_type": "stream",
     "text": [
      "\n"
     ]
    },
    {
     "data": {
      "application/vnd.jupyter.widget-view+json": {
       "model_id": "40b17fbdab764064b0b4cc763192a420",
       "version_major": 2,
       "version_minor": 0
      },
      "text/plain": [
       "HBox(children=(FloatProgress(value=0.0, max=6.0), HTML(value='')))"
      ]
     },
     "metadata": {},
     "output_type": "display_data"
    },
    {
     "name": "stderr",
     "output_type": "stream",
     "text": [
      "\r",
      "  0%|          | 0/66 [00:00<?, ?it/s]"
     ]
    },
    {
     "name": "stdout",
     "output_type": "stream",
     "text": [
      "\n"
     ]
    },
    {
     "name": "stderr",
     "output_type": "stream",
     "text": [
      "100%|██████████| 66/66 [00:18<00:00,  3.54it/s]\n"
     ]
    }
   ],
   "source": [
    "pipe = Pipeline(albert_tokenizer, albert_model, entailment_model)\n",
    "albert_y_true, albert_y_pred = pipe(data, save=True, path='./data/albert_paper_test.csv')"
   ]
  },
  {
   "cell_type": "code",
   "execution_count": 95,
   "metadata": {},
   "outputs": [
    {
     "name": "stderr",
     "output_type": "stream",
     "text": [
      "Using custom data configuration default-e567ee26bac4c5b8\n"
     ]
    },
    {
     "name": "stdout",
     "output_type": "stream",
     "text": [
      "Downloading and preparing dataset csv/default (download: Unknown size, generated: Unknown size, post-processed: Unknown size, total: Unknown size) to /home/jmack/.cache/huggingface/datasets/csv/default-e567ee26bac4c5b8/0.0.0/2dc6629a9ff6b5697d82c25b73731dd440507a69cbce8b425db50b751e8fcfd0...\n"
     ]
    },
    {
     "data": {
      "application/vnd.jupyter.widget-view+json": {
       "model_id": "",
       "version_major": 2,
       "version_minor": 0
      },
      "text/plain": [
       "HBox(children=(FloatProgress(value=1.0, bar_style='info', layout=Layout(width='20px'), max=1.0), HTML(value=''…"
      ]
     },
     "metadata": {},
     "output_type": "display_data"
    },
    {
     "name": "stdout",
     "output_type": "stream",
     "text": [
      "Dataset csv downloaded and prepared to /home/jmack/.cache/huggingface/datasets/csv/default-e567ee26bac4c5b8/0.0.0/2dc6629a9ff6b5697d82c25b73731dd440507a69cbce8b425db50b751e8fcfd0. Subsequent calls will reuse this data.\n"
     ]
    },
    {
     "data": {
      "application/vnd.jupyter.widget-view+json": {
       "model_id": "2a729781524948d79e0fd83fb071a8b0",
       "version_major": 2,
       "version_minor": 0
      },
      "text/plain": [
       "HBox(children=(FloatProgress(value=0.0, max=1.0), HTML(value='')))"
      ]
     },
     "metadata": {},
     "output_type": "display_data"
    },
    {
     "name": "stdout",
     "output_type": "stream",
     "text": [
      "\n"
     ]
    },
    {
     "data": {
      "application/vnd.jupyter.widget-view+json": {
       "model_id": "43632222066843ee966d11f2ee7c1497",
       "version_major": 2,
       "version_minor": 0
      },
      "text/plain": [
       "HBox(children=(FloatProgress(value=0.0, max=1.0), HTML(value='')))"
      ]
     },
     "metadata": {},
     "output_type": "display_data"
    },
    {
     "name": "stderr",
     "output_type": "stream",
     "text": [
      "\r",
      "  0%|          | 0/1 [00:00<?, ?it/s]"
     ]
    },
    {
     "name": "stdout",
     "output_type": "stream",
     "text": [
      "\n"
     ]
    },
    {
     "name": "stderr",
     "output_type": "stream",
     "text": [
      "100%|██████████| 1/1 [00:00<00:00,  6.59it/s]\n"
     ]
    }
   ],
   "source": [
    "y_true, y_pred = pipe(data, load=True, path='./data/albert_paper_test.csv')"
   ]
  },
  {
   "cell_type": "code",
   "execution_count": 8,
   "metadata": {},
   "outputs": [
    {
     "data": {
      "text/plain": [
       "((array([0.35865076, 0.19290466, 0.51590106]),\n",
       "  array([0.89263278, 0.07004831, 0.06955693]),\n",
       "  array([0.51170404, 0.10277614, 0.12258606]),\n",
       "  array([1751, 1242, 2099])),\n",
       " (0.3558188245393494, 0.34407934077297037, 0.24568874746081326, None),\n",
       " 0.3527101335428123)"
      ]
     },
     "execution_count": 8,
     "metadata": {},
     "output_type": "execute_result"
    }
   ],
   "source": [
    "albert_metrics, albert_macro, albert_acc = pipe.evaluate(albert_y_true, albert_y_pred)\n",
    "albert_metrics, albert_macro, albert_acc"
   ]
  },
  {
   "cell_type": "markdown",
   "metadata": {},
   "source": [
    "## Metrics\n",
    "\n",
    "- Reporting the precision, recall, F1 score and accuracy from all the above models"
   ]
  },
  {
   "cell_type": "code",
   "execution_count": null,
   "metadata": {},
   "outputs": [],
   "source": [
    "def report_results(options, name, results):\n",
    "    columns = [name, \"SUPPORTS\", \"NOT ENOUGH INFO\", \"REFUTES\", \"Macro\"]\n",
    "    max_len = len(max(columns, key=lambda x: len(x)))\n",
    "    header = \" | \".join('{0:{width}}'.format(col, width=max_len) for col in columns)\n",
    "    print(header)\n",
    "    print(\"-\" * len(header))\n",
    "    for i, r in enumerate(results):\n",
    "        r = np.round_(np.multiply(100, r), decimals=2)\n",
    "        line = [options[i], r[0], r[1], r[2], np.average(r)]\n",
    "        print(\" | \".join('{0:{width}}'.format(str(r), width=max_len) for r in line))"
   ]
  },
  {
   "cell_type": "code",
   "execution_count": null,
   "metadata": {},
   "outputs": [],
   "source": []
  },
  {
   "cell_type": "markdown",
   "metadata": {},
   "source": [
    "# Inserting a Context Layer into the Pipeline\n",
    "\n",
    "- We will try using the autoregressive language model GPT2"
   ]
  },
  {
   "cell_type": "markdown",
   "metadata": {},
   "source": [
    "### Fine Tuning GPT2 on CC News Dataset\n",
    "\n",
    "1. Open up a terminal, navigate to `/path/to/project/finetuning/` and run `run_clm.sh`\n",
    "2. Wait until it finishes\n",
    "3. **Note**: This only trains GPT2 on 150,000 samples of the CC News dataset. Please adjust the script to suit both your GPU settings and your fine-tuning needs\n",
    "4. I plan to upload the model fine-tuned on the complete dataset at a later date"
   ]
  },
  {
   "cell_type": "markdown",
   "metadata": {},
   "source": [
    "### Fine Tuning BART on FEVER\n",
    "\n",
    "1. Open up a terminal, navigate to `/path/to/project/finetuning/` and run `run_mlm.sh`\n",
    "2. Wait until it finishes\n",
    "3. **Note**: This only trains BART on 150,000 samples of the FEVER dataset. Please adjust the script to suit both your GPU settings and your fine-tuning needs\n",
    "4. I plan to upload the model fine-tuned on the complete dataset at a later date"
   ]
  },
  {
   "cell_type": "markdown",
   "metadata": {},
   "source": [
    "### Adjusting the Pipeline - Adding Generation"
   ]
  },
  {
   "cell_type": "code",
   "execution_count": 23,
   "metadata": {},
   "outputs": [],
   "source": [
    "from operator import itemgetter\n",
    "from typing import Iterable, List, Tuple\n",
    "from sklearn.metrics import precision_recall_fscore_support, accuracy_score\n",
    "\n",
    "import spacy\n",
    "import numpy as np\n",
    "from tqdm import tqdm\n",
    "from typing import Optional, Tuple, Dict, List\n",
    "\n",
    "import torch\n",
    "import torch.nn as nn\n",
    "import torch.optim as optim\n",
    "\n",
    "from allennlp.predictors.predictor import Predictor\n",
    "from models.textual_entailment import TextualEntailment\n",
    "from datasets.arrow_dataset import Dataset\n",
    "\n",
    "from transformers.generation_utils import logger\n",
    "import logging\n",
    "\n",
    "\n",
    "class PipelineWithContext(Pipeline):\n",
    "    \n",
    "    def __init__(self, tokenizer, unmasker, text_generator, model):\n",
    "        super().__init__(tokenizer, unmasker, model)\n",
    "        self.text_generator = text_generator\n",
    "        self.max_len = tokenizer.model_max_length\n",
    "        logger.setLevel(logging.ERROR)\n",
    "    \n",
    "    def __call__(self, dataset: Dataset = None, limit: int = 0, mask: bool = False, context: bool = False,\n",
    "                 fill: bool = False, save: bool = False, load: bool = False, \n",
    "                 path: str = None) -> Tuple[np.ndarray, np.ndarray]:\n",
    "        \"\"\" Performs all operations on the dataset \"\"\"\n",
    "        if (save or load) and not path:\n",
    "            raise ValueError(\"Must pass a path to save the processed dataset\")\n",
    "        \n",
    "        if load and os.path.exists(path):\n",
    "            dataset = load_dataset('csv', data_files=[path])['train']\n",
    "        \n",
    "        if dataset and not load:\n",
    "            context = True\n",
    "            fill = True\n",
    "        \n",
    "        if limit != 0:\n",
    "            dataset = dataset.select(list(range(limit)))\n",
    "        \n",
    "        if mask:\n",
    "            print(\"Masking the claims...\")\n",
    "            dataset = dataset.map(self._mask)\n",
    "            dataset = dataset.filter(lambda x: x['target'] != None)\n",
    "        \n",
    "        if context:\n",
    "            print(\"Adding context to the dataset\")\n",
    "            dataset = self.add_context(dataset)\n",
    "            if save:\n",
    "                print(\"Saving checkpoint...\")\n",
    "                dataset.to_csv(path)\n",
    "        if fill:\n",
    "            print(\"Filling the context masks\")\n",
    "            dataset = self.fill_context(dataset)\n",
    "            if save:\n",
    "                print(\"Saving checkpoint...\")\n",
    "                dataset.to_csv(path)\n",
    "        return self.evaluate_dataset(dataset)\n",
    "        \n",
    "    def add_context(self, dataset: Dataset, limit: int = 0) -> Dataset:\n",
    "        \"\"\" Masks the entire dataset \"\"\"            \n",
    "        if limit != 0:\n",
    "            dataset = dataset.select(list(range(limit)))\n",
    "        data = dataset.map(self._contextualize)\n",
    "        return data\n",
    "    \n",
    "    def fill_context(self, dataset: Dataset, limit: int = 0) -> Dataset:\n",
    "        \"\"\" Fills the context map \"\"\"\n",
    "        if limit != 0:\n",
    "            dataset = dataset.select(list(range(limit)))\n",
    "        data = dataset.map(self._fill)\n",
    "        return data\n",
    "    \n",
    "    def _fill(self, x: dict) -> dict:\n",
    "        \"\"\" Masks the claim and fills the mask \"\"\"\n",
    "        x['masked_context'] = x['masked'].join(x['context'].split(x['claim'], 1))\n",
    "        x['context_pred'] = self._predict(x['masked_context'])\n",
    "        x['context_hypothesis'] = x['masked_context'].replace(self.mask_token, x['context_pred'])\n",
    "        x['filled'] = x['masked'].replace(self.mask_token, x['context_pred'])\n",
    "        return x\n",
    "   \n",
    "    def _contextualize(self, x: dict) -> str:\n",
    "        \"\"\" Generates context for the claim \"\"\"\n",
    "        context = self.text_generator(x['claim'], max_length=50, do_sample=False)[0]['generated_text']\n",
    "        if len(context) > self.max_len:\n",
    "            context = context[:self.max_len]\n",
    "        x['context'] = context.replace('\\n', ' ')  # Remove newlines to avoid error in Entailment model\n",
    "        return x\n",
    "    \n",
    "    def evaluate_dataset(self, dataset: Dataset) -> Tuple[float, float, float, float]:\n",
    "        \"\"\" Evaluates how well the model is able to predict \"\"\"\n",
    "        support = dataset.filter(lambda x: x['target'] == x['context_pred'])\n",
    "        entail = dataset.filter(lambda x: x['target'] != x['context_pred'])\n",
    "        assert support.shape[0] + entail.shape[0] == dataset.shape[0]\n",
    "        premise, hypothesis = entail['context'], entail['context_hypothesis']\n",
    "        preds = torch.argmax(self.predict_batch(premise, hypothesis), dim=1)\n",
    "        \n",
    "        y_true = support['label']\n",
    "        y_true.extend(entail['label'])\n",
    "        y_pred = np.zeros(support.shape[0])\n",
    "        y_pred = np.concatenate((y_pred, preds), axis=None)\n",
    "        return y_true, y_pred\n",
    "    \n",
    "    def _map(self, label: int) -> str:\n",
    "        \"\"\" Maps the label to the value \"\"\"\n",
    "        switcher = {\n",
    "            'SUPPORTS': 0,\n",
    "            'NOT ENOUGH INFO': 1,\n",
    "            'REFUTES': 2\n",
    "        }\n",
    "        return switcher[label]"
   ]
  },
  {
   "cell_type": "code",
   "execution_count": 24,
   "metadata": {},
   "outputs": [],
   "source": [
    "from transformers import GPT2Tokenizer, GPT2LMHeadModel\n",
    "from transformers import pipeline\n",
    "\n",
    "gpt2_dir = '/run/media/jmack/ColdStorage/models/gpt2'\n",
    "gpt2_tokenizer = GPT2Tokenizer.from_pretrained(gpt2_dir)\n",
    "gpt2_model = GPT2LMHeadModel.from_pretrained(gpt2_dir)\n",
    "\n",
    "text_generator = pipeline(\"text-generation\", model=gpt2_model, tokenizer=gpt2_tokenizer, device=0)"
   ]
  },
  {
   "cell_type": "code",
   "execution_count": 25,
   "metadata": {},
   "outputs": [],
   "source": [
    "from transformers import BartTokenizer, BartForConditionalGeneration\n",
    "\n",
    "bart_dir = '/run/media/jmack/ColdStorage/models/bart_large'\n",
    "bart_tokenizer = BartTokenizer.from_pretrained(bart_dir)\n",
    "bart_model = BartForConditionalGeneration.from_pretrained(bart_dir)"
   ]
  },
  {
   "cell_type": "markdown",
   "metadata": {},
   "source": [
    "### A Toy Example with Finetuned Models"
   ]
  },
  {
   "cell_type": "code",
   "execution_count": 8,
   "metadata": {},
   "outputs": [
    {
     "data": {
      "text/plain": [
       "[{'generated_text': 'Thomas Jefferson founded the University of Virginia. He was born in Richmond, Virginia, on July 4, 1847. He graduated from the University of Virginia in 1871. He was a member of the Virginia Board of Trustees from 1871 to 1873. He was a member of the Virginia State Board of Education from 1873 to 1874. He was a member of'}]"
      ]
     },
     "execution_count": 8,
     "metadata": {},
     "output_type": "execute_result"
    }
   ],
   "source": [
    "text = \"Thomas Jefferson founded the University of Virginia.\"\n",
    "masked_text = \"Thomas Jefferson founded the University of <mask>.\"\n",
    "context = text_generator(\"Thomas Jefferson founded the University of Virginia.\", max_length=75, do_sample=False)\n",
    "context"
   ]
  },
  {
   "cell_type": "code",
   "execution_count": 9,
   "metadata": {},
   "outputs": [
    {
     "data": {
      "text/plain": [
       "'Thomas Jefferson founded the University of <mask>. He was born in Richmond, Virginia, on July 4, 1847. He graduated from the University of Virginia in 1871. He was a member of the Virginia Board of Trustees from 1871 to 1873. He was a member of the Virginia State Board of Education from 1873 to 1874.'"
      ]
     },
     "execution_count": 9,
     "metadata": {},
     "output_type": "execute_result"
    }
   ],
   "source": [
    "context = f\"{'.'.join(context[0]['generated_text'].split('.')[:-1])}.\"\n",
    "masked_context = context.replace(text, masked_text)\n",
    "masked_context"
   ]
  },
  {
   "cell_type": "code",
   "execution_count": 10,
   "metadata": {},
   "outputs": [
    {
     "data": {
      "text/plain": [
       "' Virginia'"
      ]
     },
     "execution_count": 10,
     "metadata": {},
     "output_type": "execute_result"
    }
   ],
   "source": [
    "def predict(tokenizer, model, masked_claim: str) -> str:\n",
    "    \"\"\" Fills the masked token with the  top-1 predicted value \"\"\"\n",
    "    tokens = tokenizer(masked_claim, return_tensors='pt')\n",
    "    masked_index = torch.nonzero(tokens['input_ids'][0] == tokenizer.mask_token_id, as_tuple=False)\n",
    "    # Fill mask pipeline supports only one ${mask_token} per sample\n",
    "    num = np.prod(masked_index.shape)\n",
    "    if num > 1 or num < 1:\n",
    "        print(masked_claim, tokens, masked_index)\n",
    "        raise ValueError(f\"Pipeline only supports one masked index: {num} is not supported\")\n",
    "\n",
    "    outputs = model(**tokens)\n",
    "    logits = outputs.logits[0, masked_index.item(), :]\n",
    "    probs = logits.softmax(dim=0)\n",
    "    values, predictions = probs.topk(1)\n",
    "    word = tokenizer.decode(predictions)\n",
    "    return word.strip()\n",
    "\n",
    "predict(bart_tokenizer, bart_model, masked_context)"
   ]
  },
  {
   "cell_type": "markdown",
   "metadata": {},
   "source": [
    "### Running the Pipeline"
   ]
  },
  {
   "cell_type": "code",
   "execution_count": 26,
   "metadata": {},
   "outputs": [],
   "source": [
    "pipe = PipelineWithContext(bart_tokenizer, bart_model, text_generator, entailment_model)"
   ]
  },
  {
   "cell_type": "code",
   "execution_count": 28,
   "metadata": {},
   "outputs": [
    {
     "name": "stdout",
     "output_type": "stream",
     "text": [
      "Masking the claims and filling the masks for the dataset\n"
     ]
    },
    {
     "data": {
      "application/vnd.jupyter.widget-view+json": {
       "model_id": "805701de1c8642c1888ceac39b545d57",
       "version_major": 2,
       "version_minor": 0
      },
      "text/plain": [
       "HBox(children=(FloatProgress(value=0.0), HTML(value='')))"
      ]
     },
     "metadata": {},
     "output_type": "display_data"
    },
    {
     "name": "stdout",
     "output_type": "stream",
     "text": [
      "\n"
     ]
    },
    {
     "data": {
      "application/vnd.jupyter.widget-view+json": {
       "model_id": "ed52d79d11fc4e4c97a197e7cf31a47c",
       "version_major": 2,
       "version_minor": 0
      },
      "text/plain": [
       "HBox(children=(FloatProgress(value=0.0, max=1.0), HTML(value='')))"
      ]
     },
     "metadata": {},
     "output_type": "display_data"
    },
    {
     "name": "stdout",
     "output_type": "stream",
     "text": [
      "\n",
      "Adding context to the dataset\n"
     ]
    },
    {
     "data": {
      "application/vnd.jupyter.widget-view+json": {
       "model_id": "1060f6e47179462ca26402d78176a501",
       "version_major": 2,
       "version_minor": 0
      },
      "text/plain": [
       "HBox(children=(FloatProgress(value=0.0, max=61.0), HTML(value='')))"
      ]
     },
     "metadata": {},
     "output_type": "display_data"
    },
    {
     "name": "stdout",
     "output_type": "stream",
     "text": [
      "\n",
      "Saving checkpoint...\n",
      "Filling the context masks\n"
     ]
    },
    {
     "data": {
      "application/vnd.jupyter.widget-view+json": {
       "model_id": "8b8e280c562d4b6e9e9bb080e5758ea9",
       "version_major": 2,
       "version_minor": 0
      },
      "text/plain": [
       "HBox(children=(FloatProgress(value=0.0, max=61.0), HTML(value='')))"
      ]
     },
     "metadata": {},
     "output_type": "display_data"
    },
    {
     "name": "stdout",
     "output_type": "stream",
     "text": [
      "\n",
      "Saving checkpoint...\n"
     ]
    },
    {
     "data": {
      "application/vnd.jupyter.widget-view+json": {
       "model_id": "fceb03e293cb40ae818acc60c5ba9821",
       "version_major": 2,
       "version_minor": 0
      },
      "text/plain": [
       "HBox(children=(FloatProgress(value=0.0, max=1.0), HTML(value='')))"
      ]
     },
     "metadata": {},
     "output_type": "display_data"
    },
    {
     "name": "stdout",
     "output_type": "stream",
     "text": [
      "\n"
     ]
    },
    {
     "data": {
      "application/vnd.jupyter.widget-view+json": {
       "model_id": "848a2a5407a14117b7b2778362b2b382",
       "version_major": 2,
       "version_minor": 0
      },
      "text/plain": [
       "HBox(children=(FloatProgress(value=0.0, max=1.0), HTML(value='')))"
      ]
     },
     "metadata": {},
     "output_type": "display_data"
    },
    {
     "name": "stderr",
     "output_type": "stream",
     "text": [
      "\r",
      "  0%|          | 0/2 [00:00<?, ?it/s]"
     ]
    },
    {
     "name": "stdout",
     "output_type": "stream",
     "text": [
      "\n"
     ]
    },
    {
     "name": "stderr",
     "output_type": "stream",
     "text": [
      "100%|██████████| 2/2 [00:00<00:00,  2.81it/s]\n"
     ]
    }
   ],
   "source": [
    "bart_y_true, bart_y_pred = pipe(data, limit=100, mask=True, save=True, path='./data/bart_context_paper_test.csv') # Process"
   ]
  },
  {
   "cell_type": "code",
   "execution_count": 30,
   "metadata": {},
   "outputs": [
    {
     "data": {
      "text/plain": [
       "Dataset({\n",
       "    features: ['Unnamed: 0', 'claim', 'evidence_annotation_id', 'evidence_id', 'evidence_sentence_id', 'evidence_wiki_url', 'hypothesis', 'id', 'label', 'masked', 'pred', 'target'],\n",
       "    num_rows: 7309\n",
       "})"
      ]
     },
     "execution_count": 30,
     "metadata": {},
     "output_type": "execute_result"
    }
   ],
   "source": [
    "bart_y_true, bart_y_pred = pipe(data, load=True, path='./data/bart_context_paper_test.csv') # Load"
   ]
  },
  {
   "cell_type": "code",
   "execution_count": 29,
   "metadata": {},
   "outputs": [
    {
     "data": {
      "text/plain": [
       "((array([0.21428571, 0.        , 0.46666667]),\n",
       "  array([0.5       , 0.        , 0.24137931]),\n",
       "  array([0.3       , 0.        , 0.31818182]),\n",
       "  array([18, 14, 29])),\n",
       " (0.22698412698412698, 0.2471264367816092, 0.20606060606060606, None),\n",
       " 0.26229508196721313)"
      ]
     },
     "execution_count": 29,
     "metadata": {},
     "output_type": "execute_result"
    }
   ],
   "source": [
    "bart_metrics, bart_macro, bart_acc = pipe.evaluate(bart_y_true, bart_y_pred)\n",
    "bart_metrics, bart_macro, bart_acc"
   ]
  },
  {
   "cell_type": "code",
   "execution_count": 30,
   "metadata": {},
   "outputs": [
    {
     "name": "stderr",
     "output_type": "stream",
     "text": [
      "Using custom data configuration default-47e949f1b82769aa\n"
     ]
    },
    {
     "name": "stdout",
     "output_type": "stream",
     "text": [
      "Downloading and preparing dataset csv/default (download: Unknown size, generated: Unknown size, post-processed: Unknown size, total: Unknown size) to /home/jmack/.cache/huggingface/datasets/csv/default-47e949f1b82769aa/0.0.0/2dc6629a9ff6b5697d82c25b73731dd440507a69cbce8b425db50b751e8fcfd0...\n"
     ]
    },
    {
     "data": {
      "application/vnd.jupyter.widget-view+json": {
       "model_id": "",
       "version_major": 2,
       "version_minor": 0
      },
      "text/plain": [
       "HBox(children=(FloatProgress(value=1.0, bar_style='info', layout=Layout(width='20px'), max=1.0), HTML(value=''…"
      ]
     },
     "metadata": {},
     "output_type": "display_data"
    },
    {
     "name": "stdout",
     "output_type": "stream",
     "text": [
      "Dataset csv downloaded and prepared to /home/jmack/.cache/huggingface/datasets/csv/default-47e949f1b82769aa/0.0.0/2dc6629a9ff6b5697d82c25b73731dd440507a69cbce8b425db50b751e8fcfd0. Subsequent calls will reuse this data.\n"
     ]
    },
    {
     "data": {
      "text/plain": [
       "Dataset({\n",
       "    features: ['Unnamed: 0', 'claim', 'context', 'context_hypothesis', 'context_pred', 'evidence_annotation_id', 'evidence_id', 'evidence_sentence_id', 'evidence_wiki_url', 'filled', 'id', 'label', 'masked', 'masked_context', 'target'],\n",
       "    num_rows: 61\n",
       "})"
      ]
     },
     "execution_count": 30,
     "metadata": {},
     "output_type": "execute_result"
    }
   ],
   "source": [
    "context = load_dataset('csv', data_files=['./data/bart_context_paper_test.csv'])['train']\n",
    "context"
   ]
  },
  {
   "cell_type": "code",
   "execution_count": 35,
   "metadata": {},
   "outputs": [
    {
     "data": {
      "text/plain": [
       "[('Ukrainian Soviet Socialist Republic was a founding participant of the Olympics. The UN has been a major source of funding for the UN and has been instrumental in the creation of the UN Security Council. The UN has been a major source of funding',\n",
       "  'Ukrainian Soviet Socialist Republic was a founding participant of the <mask>. The UN has been a major source of funding for the UN and has been instrumental in the creation of the UN Security Council. The UN has been a major source of funding'),\n",
       " ('Ukrainian Soviet Socialist Republic was a founding participant of the Olympics. The UN has been a major source of funding for the UN and has been instrumental in the creation of the UN Security Council. The UN has been a major source of funding',\n",
       "  'Ukrainian Soviet Socialist Republic was a founding participant of the <mask>. The UN has been a major source of funding for the UN and has been instrumental in the creation of the UN Security Council. The UN has been a major source of funding'),\n",
       " ('Ukrainian Soviet Socialist Republic was a founding participant of the Olympics. The UN has been a major source of funding for the UN and has been instrumental in the creation of the UN Security Council. The UN has been a major source of funding',\n",
       "  'Ukrainian Soviet Socialist Republic was a founding participant of the <mask>. The UN has been a major source of funding for the UN and has been instrumental in the creation of the UN Security Council. The UN has been a major source of funding'),\n",
       " ('Ukrainian Soviet Socialist Republic was a founding participant of the Olympics. The UN has been a major source of funding for the UN and has been instrumental in the creation of the UN Security Council. The UN has been a major source of funding',\n",
       "  'Ukrainian Soviet Socialist Republic was a founding participant of the <mask>. The UN has been a major source of funding for the UN and has been instrumental in the creation of the UN Security Council. The UN has been a major source of funding'),\n",
       " ('Ukrainian Soviet Socialist Republic was a founding participant of the Olympics. The UN has been a major source of funding for the UN and has been instrumental in the creation of the UN Security Council. The UN has been a major source of funding',\n",
       "  'Ukrainian Soviet Socialist Republic was a founding participant of the <mask>. The UN has been a major source of funding for the UN and has been instrumental in the creation of the UN Security Council. The UN has been a major source of funding'),\n",
       " ('Ukrainian Soviet Socialist Republic was a founding participant of the Olympics. The UN has been a major source of funding for the UN and has been instrumental in the creation of the UN Security Council. The UN has been a major source of funding',\n",
       "  'Ukrainian Soviet Socialist Republic was a founding participant of the <mask>. The UN has been a major source of funding for the UN and has been instrumental in the creation of the UN Security Council. The UN has been a major source of funding'),\n",
       " ('Ukrainian Soviet Socialist Republic was a founding participant of the Olympics. The UN has been a major source of funding for the UN and has been instrumental in the creation of the UN Security Council. The UN has been a major source of funding',\n",
       "  'Ukrainian Soviet Socialist Republic was a founding participant of the <mask>. The UN has been a major source of funding for the UN and has been instrumental in the creation of the UN Security Council. The UN has been a major source of funding'),\n",
       " ('The New Jersey Turnpike has no shoulders. The state has a long history of bike-sharing, with the state’s first bike-sharing station in the 1930s. The state’s first bike-sharing station was',\n",
       "  'The New Jersey Turnpike has <mask> shoulders. The state has a long history of bike-sharing, with the state’s first bike-sharing station in the 1930s. The state’s first bike-sharing station was'),\n",
       " ('Entertainment Entertainment is the owner of Wanda Cinemas. The company is a subsidiary of the company that owns the Wanda Cinema in New York City. Wanda is a global entertainment company that operates in the entertainment, entertainment, and entertainment industries',\n",
       "  '<mask> Entertainment is the owner of Wanda Cinemas. The company is a subsidiary of the company that owns the Wanda Cinema in New York City. Wanda is a global entertainment company that operates in the entertainment, entertainment, and entertainment industries'),\n",
       " ('Entertainment Entertainment is the owner of Wanda Cinemas. The company is a subsidiary of the company that owns the Wanda Cinema in New York City. Wanda is a global entertainment company that operates in the entertainment, entertainment, and entertainment industries',\n",
       "  '<mask> Entertainment is the owner of Wanda Cinemas. The company is a subsidiary of the company that owns the Wanda Cinema in New York City. Wanda is a global entertainment company that operates in the entertainment, entertainment, and entertainment industries'),\n",
       " ('Entertainment Entertainment is the owner of Wanda Cinemas. The company is a subsidiary of the company that owns the Wanda Cinema in New York City. Wanda is a global entertainment company that operates in the entertainment, entertainment, and entertainment industries',\n",
       "  '<mask> Entertainment is the owner of Wanda Cinemas. The company is a subsidiary of the company that owns the Wanda Cinema in New York City. Wanda is a global entertainment company that operates in the entertainment, entertainment, and entertainment industries'),\n",
       " ('Entertainment Entertainment is the owner of Wanda Cinemas. The company is a subsidiary of the company that owns the Wanda Cinema in New York City. Wanda is a global entertainment company that operates in the entertainment, entertainment, and entertainment industries',\n",
       "  '<mask> Entertainment is the owner of Wanda Cinemas. The company is a subsidiary of the company that owns the Wanda Cinema in New York City. Wanda is a global entertainment company that operates in the entertainment, entertainment, and entertainment industries'),\n",
       " ('Entertainment Entertainment is the owner of Wanda Cinemas. The company is a subsidiary of the company that owns the Wanda Cinema in New York City. Wanda is a global entertainment company that operates in the entertainment, entertainment, and entertainment industries',\n",
       "  '<mask> Entertainment is the owner of Wanda Cinemas. The company is a subsidiary of the company that owns the Wanda Cinema in New York City. Wanda is a global entertainment company that operates in the entertainment, entertainment, and entertainment industries'),\n",
       " ('Aruba is the only Paradise Island. The show is based on the real-life story of a young woman who is kidnapped by a group of kidnappers. The show is produced by ABC Studios and is produced by Warner Bros. Television.',\n",
       "  'Aruba is the only <mask> Island. The show is based on the real-life story of a young woman who is kidnapped by a group of kidnappers. The show is produced by ABC Studios and is produced by Warner Bros. Television.'),\n",
       " ('Aruba is the only Paradise Island. The show is based on the real-life story of a young woman who is kidnapped by a group of kidnappers. The show is produced by ABC Studios and is produced by Warner Bros. Television.',\n",
       "  'Aruba is the only <mask> Island. The show is based on the real-life story of a young woman who is kidnapped by a group of kidnappers. The show is produced by ABC Studios and is produced by Warner Bros. Television.'),\n",
       " ('Burbank, California has always been completely void of industry. The company has been a pioneer in the field of automotive safety, but it has also been a pioneer in the field of safety education. The company has been a pioneer in the field',\n",
       "  'Burbank, <mask> has always been completely void of industry. The company has been a pioneer in the field of automotive safety, but it has also been a pioneer in the field of safety education. The company has been a pioneer in the field'),\n",
       " (\"The Guthrie Theater's second building began operating in 2009. The Guthrie Theater is located at the corner of North and North Avenue in the downtown area of the city. The Guthrie Theater is open to the public from 9 a.m\",\n",
       "  \"The Guthrie Theater's second building began operating in <mask>. The Guthrie Theater is located at the corner of North and North Avenue in the downtown area of the city. The Guthrie Theater is open to the public from 9 a.m\"),\n",
       " ('Hezbollah received a type of training from the. The Iranian Revolutionary Guard Corps (IRGC) is a paramilitary force that is responsible for the security of the Iranian-backed Hezbollah movement. The IRGC is a paramilitary force that is responsible for',\n",
       "  'Hezbollah received a type of training from <mask>. The Iranian Revolutionary Guard Corps (IRGC) is a paramilitary force that is responsible for the security of the Iranian-backed Hezbollah movement. The IRGC is a paramilitary force that is responsible for'),\n",
       " ('Hezbollah received a type of training from the. The Iranian Revolutionary Guard Corps (IRGC) is a paramilitary force that is responsible for the security of the Iranian-backed Hezbollah movement. The IRGC is a paramilitary force that is responsible for',\n",
       "  'Hezbollah received a type of training from <mask>. The Iranian Revolutionary Guard Corps (IRGC) is a paramilitary force that is responsible for the security of the Iranian-backed Hezbollah movement. The IRGC is a paramilitary force that is responsible for'),\n",
       " ('Practical Magic is an American romantic drama film. The film is based on the true story of a young woman who is forced to marry a man who is a serial killer. The film stars Jennifer Lawrence, Reese Witherspoon, and',\n",
       "  'Practical Magic is an <mask> romantic drama film. The film is based on the true story of a young woman who is forced to marry a man who is a serial killer. The film stars Jennifer Lawrence, Reese Witherspoon, and'),\n",
       " ('Corsica belongs to United. The club has been linked with a move for the midfielder, who has been linked with a move to Manchester United. The 25-year-old has been linked with a move to Manchester United, with reports',\n",
       "  'Corsica belongs to <mask>. The club has been linked with a move for the midfielder, who has been linked with a move to Manchester United. The 25-year-old has been linked with a move to Manchester United, with reports'),\n",
       " ('Corsica belongs to United. The club has been linked with a move for the midfielder, who has been linked with a move to Manchester United. The 25-year-old has been linked with a move to Manchester United, with reports',\n",
       "  'Corsica belongs to <mask>. The club has been linked with a move for the midfielder, who has been linked with a move to Manchester United. The 25-year-old has been linked with a move to Manchester United, with reports'),\n",
       " (\"The Bourne removed Riz Ahmed from the movie's cast. The actor, who plays the role of a young man who is a member of the gang, was seen in the trailer for the film. The actor, who plays the role\",\n",
       "  \"<mask> Bourne removed Riz Ahmed from the movie's cast. The actor, who plays the role of a young man who is a member of the gang, was seen in the trailer for the film. The actor, who plays the role\"),\n",
       " ('Dennis Dennis is unemployed. “I’m not going to be able to work,” he said. “I’m not going to be able to do anything.” Dennis said he’s',\n",
       "  '<mask> Dennis is unemployed. “I’m not going to be able to work,” he said. “I’m not going to be able to do anything.” Dennis said he’s'),\n",
       " ('Dennis Dennis is unemployed. “I’m not going to be able to work,” he said. “I’m not going to be able to do anything.” Dennis said he’s',\n",
       "  '<mask> Dennis is unemployed. “I’m not going to be able to work,” he said. “I’m not going to be able to do anything.” Dennis said he’s'),\n",
       " ('Dennis Dennis is unemployed. “I’m not going to be able to work,” he said. “I’m not going to be able to do anything.” Dennis said he’s',\n",
       "  '<mask> Dennis is unemployed. “I’m not going to be able to work,” he said. “I’m not going to be able to do anything.” Dennis said he’s'),\n",
       " ('Just Dance has always been banned in the Netherlands. The dance is a form of dance that is performed by a group of dancers. The dance is performed by a group of dancers. The dance is performed by a group of dancers. ',\n",
       "  '<mask> Dance has always been banned in the Netherlands. The dance is a form of dance that is performed by a group of dancers. The dance is performed by a group of dancers. The dance is performed by a group of dancers. '),\n",
       " ('Just Dance has always been banned in the Netherlands. The dance is a form of dance that is performed by a group of dancers. The dance is performed by a group of dancers. The dance is performed by a group of dancers. ',\n",
       "  '<mask> Dance has always been banned in the Netherlands. The dance is a form of dance that is performed by a group of dancers. The dance is performed by a group of dancers. The dance is performed by a group of dancers. '),\n",
       " ('Just Dance has always been banned in the Netherlands. The dance is a form of dance that is performed by a group of dancers. The dance is performed by a group of dancers. The dance is performed by a group of dancers. ',\n",
       "  '<mask> Dance has always been banned in the Netherlands. The dance is a form of dance that is performed by a group of dancers. The dance is performed by a group of dancers. The dance is performed by a group of dancers. '),\n",
       " ('Just Dance has always been banned in the Netherlands. The dance is a form of dance that is performed by a group of dancers. The dance is performed by a group of dancers. The dance is performed by a group of dancers. ',\n",
       "  '<mask> Dance has always been banned in the Netherlands. The dance is a form of dance that is performed by a group of dancers. The dance is performed by a group of dancers. The dance is performed by a group of dancers. '),\n",
       " ('Sean Gunn is an American poet. He is the author of the forthcoming book, “The Art of Poetry: A Poet’s Guide to the Art of Writing.” The Art of Poetry is published by Penguin Random',\n",
       "  'Sean Gunn is an <mask> poet. He is the author of the forthcoming book, “The Art of Poetry: A Poet’s Guide to the Art of Writing.” The Art of Poetry is published by Penguin Random'),\n",
       " ('Chris Seibert has produced comedy programs. He has written and directed several films, including “The Big Sick,” “The Big Sick 2,” “The Big Sick 3,” “The Big Sick 4',\n",
       "  '<mask> Seibert has produced comedy programs. He has written and directed several films, including “The Big Sick,” “The Big Sick 2,” “The Big Sick 3,” “The Big Sick 4'),\n",
       " ('Konidela Motor Company was established. The Company is engaged in the production of various types of products and services. The Company is engaged in the production of various types of products and services. The Company is engaged in the production of various types',\n",
       "  'Konidela <mask> Company was established. The Company is engaged in the production of various types of products and services. The Company is engaged in the production of various types of products and services. The Company is engaged in the production of various types'),\n",
       " ('von von Hindenburg was a man. He was a man who was a man who was a man who was a man who was a man who was a man who was a man who was a man who was a man who was a man who was',\n",
       "  '<mask> von Hindenburg was a man. He was a man who was a man who was a man who was a man who was a man who was a man who was a man who was a man who was a man who was a man who was'),\n",
       " ('von von Hindenburg was a man. He was a man who was a man who was a man who was a man who was a man who was a man who was a man who was a man who was a man who was a man who was',\n",
       "  '<mask> von Hindenburg was a man. He was a man who was a man who was a man who was a man who was a man who was a man who was a man who was a man who was a man who was a man who was'),\n",
       " ('Vic Mensa was born June 12, 1993. He is the son of the late Paul and Mary Mensa. He is a graduate of the University of California, Berkeley. He is a member of the American Academy of Pediatrics, the American Academy',\n",
       "  'Vic Mensa was born <mask> 12, 1993. He is the son of the late Paul and Mary Mensa. He is a graduate of the University of California, Berkeley. He is a member of the American Academy of Pediatrics, the American Academy'),\n",
       " ('Mutiny on the Bounty is an American film. It is a story of a young man who is forced to choose between his family and his future. The film is based on the novel by the same name by the same name by the same name',\n",
       "  'Mutiny on the Bounty is an <mask> film. It is a story of a young man who is forced to choose between his family and his future. The film is based on the novel by the same name by the same name by the same name'),\n",
       " ('Color of Night came out in 1994. The film was directed by Michael Kors, who also directed the film. The film was released in the United States on June 1, 1994. The film was released in the United States on June',\n",
       "  'Color of Night came out in <mask>. The film was directed by Michael Kors, who also directed the film. The film was released in the United States on June 1, 1994. The film was released in the United States on June'),\n",
       " ('Color of Night came out in 1994. The film was directed by Michael Kors, who also directed the film. The film was released in the United States on June 1, 1994. The film was released in the United States on June',\n",
       "  'Color of Night came out in <mask>. The film was directed by Michael Kors, who also directed the film. The film was released in the United States on June 1, 1994. The film was released in the United States on June'),\n",
       " ('Death Note is a Japanese television drama series that first aired in 2009. It follows the life of a young boy who is forced to choose between his love for his father and his love for his mother. The series follows the life of a young boy',\n",
       "  'Death Note is a Japanese television drama series that first aired in <mask>. It follows the life of a young boy who is forced to choose between his love for his father and his love for his mother. The series follows the life of a young boy'),\n",
       " ('Death Note is a Japanese television drama series that first aired in 2009. It follows the life of a young boy who is forced to choose between his love for his father and his love for his mother. The series follows the life of a young boy',\n",
       "  'Death Note is a Japanese television drama series that first aired in <mask>. It follows the life of a young boy who is forced to choose between his love for his father and his love for his mother. The series follows the life of a young boy'),\n",
       " ('Nic Nicole Smith worked for multiple real estate companies. She was a member of the board of directors of the New York City real estate investment trust, which was founded in 1877. Smith was a member of the board of directors of the New York',\n",
       "  '<mask> Nicole Smith worked for multiple real estate companies. She was a member of the board of directors of the New York City real estate investment trust, which was founded in 1877. Smith was a member of the board of directors of the New York'),\n",
       " ('The Nobel Prize in Chemistry was awarded to a person from the Kingdom of Denmark. The prize was presented to the Nobel Laureate in Chemistry, Dr. Peter J. Koehler, who is also the Nobel Laureate in Chemistry. The',\n",
       "  'The Nobel Prize in Chemistry was awarded to a person from <mask> Kingdom of Denmark. The prize was presented to the Nobel Laureate in Chemistry, Dr. Peter J. Koehler, who is also the Nobel Laureate in Chemistry. The'),\n",
       " (\"Westworld (TV series)'s first season has an episode. The show, which is based on the real-life adventures of the late, great-grandmother of the late TV star, is based on the real-life adventures of the\",\n",
       "  \"Westworld (TV series)'s first season has <mask> episode. The show, which is based on the real-life adventures of the late, great-grandmother of the late TV star, is based on the real-life adventures of the\"),\n",
       " ('Manchester by the Shell is distributed by several large armadillos. The company has been in business since the early 1980s and has been a major player in the global maritime market. The company has been in business since the early 1980s',\n",
       "  'Manchester by the <mask> is distributed by several large armadillos. The company has been in business since the early 1980s and has been a major player in the global maritime market. The company has been in business since the early 1980s'),\n",
       " ('Manchester by the Shell is distributed by several large armadillos. The company has been in business since the early 1980s and has been a major player in the global maritime market. The company has been in business since the early 1980s',\n",
       "  'Manchester by the <mask> is distributed by several large armadillos. The company has been in business since the early 1980s and has been a major player in the global maritime market. The company has been in business since the early 1980s'),\n",
       " (\"Richard Dawson's date of birth was April 20, 1932. The couple's relationship was first reported by the New York Times in January. The couple's relationship was first reported by the New York Times in January. The couple's relationship was\",\n",
       "  \"Richard Dawson's date of birth was <mask> 20, 1932. The couple's relationship was first reported by the New York Times in January. The couple's relationship was first reported by the New York Times in January. The couple's relationship was\"),\n",
       " ('Pink is a pop singer. She is a singer who has been performing in the Netherlands for over 20 years. She is a singer who has been performing in the Netherlands for over 20 years. She is a singer who has been performing in the Netherlands for',\n",
       "  'Pink is a <mask> singer. She is a singer who has been performing in the Netherlands for over 20 years. She is a singer who has been performing in the Netherlands for over 20 years. She is a singer who has been performing in the Netherlands for'),\n",
       " ('Pink is a pop singer. She is a singer who has been performing in the Netherlands for over 20 years. She is a singer who has been performing in the Netherlands for over 20 years. She is a singer who has been performing in the Netherlands for',\n",
       "  'Pink is a <mask> singer. She is a singer who has been performing in the Netherlands for over 20 years. She is a singer who has been performing in the Netherlands for over 20 years. She is a singer who has been performing in the Netherlands for'),\n",
       " ('Pink is a pop singer. She is a singer who has been performing in the Netherlands for over 20 years. She is a singer who has been performing in the Netherlands for over 20 years. She is a singer who has been performing in the Netherlands for',\n",
       "  'Pink is a <mask> singer. She is a singer who has been performing in the Netherlands for over 20 years. She is a singer who has been performing in the Netherlands for over 20 years. She is a singer who has been performing in the Netherlands for'),\n",
       " ('Pink is a pop singer. She is a singer who has been performing in the Netherlands for over 20 years. She is a singer who has been performing in the Netherlands for over 20 years. She is a singer who has been performing in the Netherlands for',\n",
       "  'Pink is a <mask> singer. She is a singer who has been performing in the Netherlands for over 20 years. She is a singer who has been performing in the Netherlands for over 20 years. She is a singer who has been performing in the Netherlands for'),\n",
       " ('Hood Hood is the lowest point in its state. The state has been hit by a series of storms that have caused widespread flooding and mudslides. The storm has killed at least 12 people and displaced more than 200,000. The',\n",
       "  '<mask> Hood is the lowest point in its state. The state has been hit by a series of storms that have caused widespread flooding and mudslides. The storm has killed at least 12 people and displaced more than 200,000. The'),\n",
       " ('Pocahontas attended a masque at Whitehall Palace which was a place where mostly English people gathered. The Queen was also present at the event, which was attended by the Queen’s children, Prince William and Princess Charlotte.',\n",
       "  'Pocahontas attended a masque at Whitehall Palace which was a place where mostly <mask> people gathered. The Queen was also present at the event, which was attended by the Queen’s children, Prince William and Princess Charlotte.'),\n",
       " ('US Airways Flight 1549 had zero people on board. The plane was carrying 110 passengers and six crew members when it crashed. The plane was carrying 110 passengers and six crew members when it crashed. (Photo: Getty Images Europe) The',\n",
       "  'US Airways Flight 1549 had <mask> people on board. The plane was carrying 110 passengers and six crew members when it crashed. The plane was carrying 110 passengers and six crew members when it crashed. (Photo: Getty Images Europe) The'),\n",
       " ('US Airways Flight 1549 had zero people on board. The plane was carrying 110 passengers and six crew members when it crashed. The plane was carrying 110 passengers and six crew members when it crashed. (Photo: Getty Images Europe) The',\n",
       "  'US Airways Flight 1549 had <mask> people on board. The plane was carrying 110 passengers and six crew members when it crashed. The plane was carrying 110 passengers and six crew members when it crashed. (Photo: Getty Images Europe) The'),\n",
       " ('US Airways Flight 1549 had zero people on board. The plane was carrying 110 passengers and six crew members when it crashed. The plane was carrying 110 passengers and six crew members when it crashed. (Photo: Getty Images Europe) The',\n",
       "  'US Airways Flight 1549 had <mask> people on board. The plane was carrying 110 passengers and six crew members when it crashed. The plane was carrying 110 passengers and six crew members when it crashed. (Photo: Getty Images Europe) The'),\n",
       " ('US Airways Flight 1549 had zero people on board. The plane was carrying 110 passengers and six crew members when it crashed. The plane was carrying 110 passengers and six crew members when it crashed. (Photo: Getty Images Europe) The',\n",
       "  'US Airways Flight 1549 had <mask> people on board. The plane was carrying 110 passengers and six crew members when it crashed. The plane was carrying 110 passengers and six crew members when it crashed. (Photo: Getty Images Europe) The'),\n",
       " ('US Airways Flight 1549 had zero people on board. The plane was carrying 110 passengers and six crew members when it crashed. The plane was carrying 110 passengers and six crew members when it crashed. (Photo: Getty Images Europe) The',\n",
       "  'US Airways Flight 1549 had <mask> people on board. The plane was carrying 110 passengers and six crew members when it crashed. The plane was carrying 110 passengers and six crew members when it crashed. (Photo: Getty Images Europe) The'),\n",
       " ('US Airways Flight 1549 had zero people on board. The plane was carrying 110 passengers and six crew members when it crashed. The plane was carrying 110 passengers and six crew members when it crashed. (Photo: Getty Images Europe) The',\n",
       "  'US Airways Flight 1549 had <mask> people on board. The plane was carrying 110 passengers and six crew members when it crashed. The plane was carrying 110 passengers and six crew members when it crashed. (Photo: Getty Images Europe) The'),\n",
       " ('US Airways Flight 1549 had zero people on board. The plane was carrying 110 passengers and six crew members when it crashed. The plane was carrying 110 passengers and six crew members when it crashed. (Photo: Getty Images Europe) The',\n",
       "  'US Airways Flight 1549 had <mask> people on board. The plane was carrying 110 passengers and six crew members when it crashed. The plane was carrying 110 passengers and six crew members when it crashed. (Photo: Getty Images Europe) The'),\n",
       " ('Mom (TV series) has received a nomination. The show, which is based on the life of a former FBI agent, is based on the life of a former FBI agent who was killed in a car crash in the early 1990s. ',\n",
       "  'Mom (TV series) has received <mask> nomination. The show, which is based on the life of a former FBI agent, is based on the life of a former FBI agent who was killed in a car crash in the early 1990s. ')]"
      ]
     },
     "execution_count": 35,
     "metadata": {},
     "output_type": "execute_result"
    }
   ],
   "source": [
    "list(zip(context['context_hypothesis'], context['masked_context']))"
   ]
  },
  {
   "cell_type": "code",
   "execution_count": 67,
   "metadata": {},
   "outputs": [
    {
     "data": {
      "application/vnd.jupyter.widget-view+json": {
       "model_id": "f47fd7719baa4d75988ab986c858dd2f",
       "version_major": 2,
       "version_minor": 0
      },
      "text/plain": [
       "HBox(children=(FloatProgress(value=0.0, max=1.0), HTML(value='')))"
      ]
     },
     "metadata": {},
     "output_type": "display_data"
    },
    {
     "name": "stdout",
     "output_type": "stream",
     "text": [
      "\n"
     ]
    },
    {
     "data": {
      "application/vnd.jupyter.widget-view+json": {
       "model_id": "93cd014d1071433092b6d6ac45fc7e0d",
       "version_major": 2,
       "version_minor": 0
      },
      "text/plain": [
       "HBox(children=(FloatProgress(value=0.0, max=1.0), HTML(value='')))"
      ]
     },
     "metadata": {},
     "output_type": "display_data"
    },
    {
     "name": "stderr",
     "output_type": "stream",
     "text": [
      "\r",
      "  0%|          | 0/1 [00:00<?, ?it/s]"
     ]
    },
    {
     "name": "stdout",
     "output_type": "stream",
     "text": [
      "\n"
     ]
    },
    {
     "name": "stderr",
     "output_type": "stream",
     "text": [
      "100%|██████████| 1/1 [00:00<00:00,  4.88it/s]\n"
     ]
    },
    {
     "data": {
      "text/plain": [
       "([2, 0, 0, 0, 0, 0, 0, 0, 2, 1],\n",
       " array([0., 2., 2., 2., 2., 2., 2., 2., 1., 0.]))"
      ]
     },
     "execution_count": 67,
     "metadata": {},
     "output_type": "execute_result"
    }
   ],
   "source": [
    "pipe.evaluate_dataset(filled)"
   ]
  },
  {
   "cell_type": "markdown",
   "metadata": {},
   "source": [
    "# Question and Answer Pipeline"
   ]
  },
  {
   "cell_type": "code",
   "execution_count": 37,
   "metadata": {},
   "outputs": [],
   "source": [
    "\n",
    "class QAPipeline:\n",
    "    \n",
    "    def __init__(self, question_tokenizer, question_generator, answer_tokenizer, answer_generator, \n",
    "                 mask_token: str = '[MASK]'):\n",
    "        self.device = \"cuda:0\" if torch.cuda.is_available() else \"cpu\"\n",
    "        self.nlp = spacy.load(\"en_core_web_sm\")\n",
    "        self.question_tokenizer = question_tokenizer\n",
    "        self.question_generator = question_generator\n",
    "        self.answer_tokenizer = answer_tokenizer\n",
    "        self.answer_generator = answer_generator\n",
    "        self.max_len = min(question_tokenizer.model_max_length, answer_tokenizer.model_max_length)\n",
    "    \n",
    "    def __call__(self, dataset: Dataset = None, limit: int = 0, mask: bool = False, questionize: bool = False,\n",
    "                 answer: bool = False, save: bool = False, load: bool = False, \n",
    "                 path: str = None) -> Tuple[np.ndarray, np.ndarray]:\n",
    "        \"\"\" Performs all operations on the dataset \"\"\"\n",
    "        if (save or load) and not path:\n",
    "            raise ValueError(\"Must pass a path to save the processed dataset\")\n",
    "        \n",
    "        if load and os.path.exists(path):\n",
    "            dataset = load_dataset('csv', data_files=[path])['train']\n",
    "        \n",
    "        if dataset and not load:\n",
    "            mask = questionize = answer = True\n",
    "        \n",
    "        if limit != 0:\n",
    "            dataset = dataset.select(list(range(limit)))\n",
    "        \n",
    "        if mask:\n",
    "            print(\"Masking the claims and retrieving answers\")\n",
    "            dataset = dataset.map(self._mask)\n",
    "            dataset = dataset.filter(lambda x: x['target'] != None)\n",
    "        \n",
    "        if questionize:\n",
    "            print(\"Generating questions from the claims\")\n",
    "            dataset = self.generate_questions(dataset)\n",
    "            if save:\n",
    "                print(\"Saving checkpoint...\")\n",
    "                dataset.to_csv(path)\n",
    "                \n",
    "        if answer:\n",
    "            print(\"Answering the questions\")\n",
    "            dataset = self.fill_context(dataset)\n",
    "            if save:\n",
    "                print(\"Saving checkpoint...\")\n",
    "                dataset.to_csv(path)\n",
    "        return self.evaluate_dataset(dataset)\n",
    "    \n",
    "    def _mask(self, x: dict) -> dict:\n",
    "        \"\"\" Masks the last named entity in the string \"\"\"\n",
    "        x['answer'] = None\n",
    "        x['masked'] = None\n",
    "        x['label'] = self._map(x['label'])\n",
    "        claim = x['claim']\n",
    "        doc = self.nlp(claim, disable=[\"tok2vec\", \"tagger\", \"parser\", \"attribute_ruler\", \"lemmatizer\"])\n",
    "        ents = doc.ents\n",
    "        if ents:\n",
    "            answer = ents[0].text\n",
    "            masked = self.mask_token.join(claim.split(answer, 1))\n",
    "            x['answer'] = answer\n",
    "            x['masked'] = masked\n",
    "        return x\n",
    "        \n",
    "    def generate_questions(self, dataset: Dataset, limit: int = 0) -> Dataset:\n",
    "        \"\"\" Masks the entire dataset \"\"\"            \n",
    "        if limit != 0:\n",
    "            dataset = dataset.select(list(range(limit)))\n",
    "        data = dataset.map(self._questionize)\n",
    "        return data\n",
    "    \n",
    "    def _questionize(self, x: dict) -> dict:\n",
    "        \"\"\" Masks the claim and fills the mask \"\"\"\n",
    "        input_text = f\"<answer> {x['answer']} <context> {x['claim']} </s>\"\n",
    "        features = self.question_tokenizer([input_text], return_tensors='pt').to(self.device)\n",
    "        output = self.answer_generator.generate(input_ids=features['input_ids'], \n",
    "                                                attention_mask=features['attention_mask'],\n",
    "                                                max_length=self.max_len)\n",
    "        question = self.question_tokenizer.decode(output[0])\n",
    "        x['question'] = question.replace('question: ', '')\n",
    "        return x\n",
    "    \n",
    "    def generate_answers(self, dataset: Dataset, limit: int = 0) -> Dataset:\n",
    "        \"\"\" Masks the entire dataset \"\"\"            \n",
    "        if limit != 0:\n",
    "            dataset = dataset.select(list(range(limit)))\n",
    "        data = dataset.map(self._answer_question)\n",
    "        return data\n",
    "   \n",
    "    def _answer_question(self, x: dict) -> str:\n",
    "        \"\"\" Answers the question and fills the masked claim \"\"\"\n",
    "        input_ids = self.answer_tokenizer(x['question'], return_tensors=\"pt\").input_ids\n",
    "        pred_answer = self.answer_generator.generate(input_ids.to(self.device))[0]\n",
    "        response = self.answer_tokenizer.decode(gen_output, skip_special_tokens=True)\n",
    "        x['pred'] = response\n",
    "        x['hypothesis'] = x['masked'].replace(self.mask_token, response)\n",
    "        return x\n",
    "    \n",
    "    def evaluate_dataset(self, dataset: Dataset) -> Tuple[List[int], List[int]]:\n",
    "        \"\"\" Evaluates how well the model is able to predict \"\"\"\n",
    "        support = dataset.filter(lambda x: x['answer'] == x['pred'])\n",
    "        entail = dataset.filter(lambda x: x['answer'] != x['pred'])\n",
    "        assert support.shape[0] + entail.shape[0] == dataset.shape[0]\n",
    "        premise, hypothesis = entail['claim'], entail['hypothesis']\n",
    "        preds = torch.argmax(self.predict_batch(premise, hypothesis), dim=1)\n",
    "        \n",
    "        y_true = support['label']\n",
    "        y_true.extend(entail['label'])\n",
    "        y_pred = np.zeros(support.shape[0])\n",
    "        y_pred = np.concatenate((y_pred, preds), axis=None)\n",
    "        return y_true, y_pred\n",
    "    \n",
    "    def evaluate(self, y_true: List[int], y_pred: List[int]) -> tuple:\n",
    "        \"\"\" Evaluates how well the model is able to predict \"\"\"\n",
    "        metrics = precision_recall_fscore_support(y_true, y_pred)\n",
    "        macro = precision_recall_fscore_support(y_true, y_pred, average='macro')\n",
    "        acc = accuracy_score(y_true, y_pred)\n",
    "        return metrics, macro, acc\n",
    "    \n",
    "    def _map(self, label: int) -> str:\n",
    "        \"\"\" Maps the label to the value \"\"\"\n",
    "        switcher = {\n",
    "            'SUPPORTS': 0,\n",
    "            'NOT ENOUGH INFO': 1,\n",
    "            'REFUTES': 2\n",
    "        }\n",
    "        return switcher[label]"
   ]
  },
  {
   "cell_type": "code",
   "execution_count": 40,
   "metadata": {},
   "outputs": [
    {
     "data": {
      "application/vnd.jupyter.widget-view+json": {
       "model_id": "5e2838e4ef0c4152b710dc613d74567e",
       "version_major": 2,
       "version_minor": 0
      },
      "text/plain": [
       "HBox(children=(FloatProgress(value=0.0, description='Downloading', max=1208.0, style=ProgressStyle(description…"
      ]
     },
     "metadata": {},
     "output_type": "display_data"
    },
    {
     "name": "stdout",
     "output_type": "stream",
     "text": [
      "\n"
     ]
    },
    {
     "data": {
      "application/vnd.jupyter.widget-view+json": {
       "model_id": "5e29d177962f48449eb70d32277846f3",
       "version_major": 2,
       "version_minor": 0
      },
      "text/plain": [
       "HBox(children=(FloatProgress(value=0.0, description='Downloading', max=791656.0, style=ProgressStyle(descripti…"
      ]
     },
     "metadata": {},
     "output_type": "display_data"
    },
    {
     "name": "stdout",
     "output_type": "stream",
     "text": [
      "\n"
     ]
    },
    {
     "data": {
      "application/vnd.jupyter.widget-view+json": {
       "model_id": "cd41b89fcf684f47b88a613b2228d7d2",
       "version_major": 2,
       "version_minor": 0
      },
      "text/plain": [
       "HBox(children=(FloatProgress(value=0.0, description='Downloading', max=39.0, style=ProgressStyle(description_w…"
      ]
     },
     "metadata": {},
     "output_type": "display_data"
    },
    {
     "name": "stdout",
     "output_type": "stream",
     "text": [
      "\n"
     ]
    },
    {
     "data": {
      "application/vnd.jupyter.widget-view+json": {
       "model_id": "95e643b23f5545a9bd5ce63ce1d254d4",
       "version_major": 2,
       "version_minor": 0
      },
      "text/plain": [
       "HBox(children=(FloatProgress(value=0.0, description='Downloading', max=121.0, style=ProgressStyle(description_…"
      ]
     },
     "metadata": {},
     "output_type": "display_data"
    },
    {
     "name": "stdout",
     "output_type": "stream",
     "text": [
      "\n"
     ]
    },
    {
     "data": {
      "application/vnd.jupyter.widget-view+json": {
       "model_id": "2b344b38ec5a47a9993c68fc51eccda1",
       "version_major": 2,
       "version_minor": 0
      },
      "text/plain": [
       "HBox(children=(FloatProgress(value=0.0, description='Downloading', max=25.0, style=ProgressStyle(description_w…"
      ]
     },
     "metadata": {},
     "output_type": "display_data"
    },
    {
     "name": "stdout",
     "output_type": "stream",
     "text": [
      "\n"
     ]
    },
    {
     "data": {
      "application/vnd.jupyter.widget-view+json": {
       "model_id": "f87696a535944dd28aea9b07f18856f5",
       "version_major": 2,
       "version_minor": 0
      },
      "text/plain": [
       "HBox(children=(FloatProgress(value=0.0, description='Downloading', max=891612736.0, style=ProgressStyle(descri…"
      ]
     },
     "metadata": {},
     "output_type": "display_data"
    },
    {
     "name": "stdout",
     "output_type": "stream",
     "text": [
      "\n"
     ]
    }
   ],
   "source": [
    "from transformers import AutoModelWithLMHead, AutoModelForSeq2SeqLM, AutoTokenizer\n",
    "\n",
    "question_tokenizer = AutoTokenizer.from_pretrained(\"iarfmoose/t5-base-question-generator\")\n",
    "question_model = AutoModelWithLMHead.from_pretrained(\"iarfmoose/t5-base-question-generator\")"
   ]
  },
  {
   "cell_type": "code",
   "execution_count": null,
   "metadata": {},
   "outputs": [
    {
     "data": {
      "application/vnd.jupyter.widget-view+json": {
       "model_id": "96ae692b21b44c4abbbc70c4dc46fe29",
       "version_major": 2,
       "version_minor": 0
      },
      "text/plain": [
       "HBox(children=(FloatProgress(value=0.0, description='Downloading', max=571.0, style=ProgressStyle(description_…"
      ]
     },
     "metadata": {},
     "output_type": "display_data"
    },
    {
     "name": "stdout",
     "output_type": "stream",
     "text": [
      "\n"
     ]
    },
    {
     "data": {
      "application/vnd.jupyter.widget-view+json": {
       "model_id": "9386ce29cd964065baa2c1b128eb65bf",
       "version_major": 2,
       "version_minor": 0
      },
      "text/plain": [
       "HBox(children=(FloatProgress(value=0.0, description='Downloading', max=791656.0, style=ProgressStyle(descripti…"
      ]
     },
     "metadata": {},
     "output_type": "display_data"
    },
    {
     "name": "stdout",
     "output_type": "stream",
     "text": [
      "\n"
     ]
    },
    {
     "data": {
      "application/vnd.jupyter.widget-view+json": {
       "model_id": "ef0241763d754228bee33107e9a3bff1",
       "version_major": 2,
       "version_minor": 0
      },
      "text/plain": [
       "HBox(children=(FloatProgress(value=0.0, description='Downloading', max=1786.0, style=ProgressStyle(description…"
      ]
     },
     "metadata": {},
     "output_type": "display_data"
    },
    {
     "name": "stdout",
     "output_type": "stream",
     "text": [
      "\n"
     ]
    },
    {
     "data": {
      "application/vnd.jupyter.widget-view+json": {
       "model_id": "2baa6746c9ff456fa58dd0bc54ac5596",
       "version_major": 2,
       "version_minor": 0
      },
      "text/plain": [
       "HBox(children=(FloatProgress(value=0.0, description='Downloading', max=2067.0, style=ProgressStyle(description…"
      ]
     },
     "metadata": {},
     "output_type": "display_data"
    },
    {
     "name": "stdout",
     "output_type": "stream",
     "text": [
      "\n"
     ]
    },
    {
     "data": {
      "application/vnd.jupyter.widget-view+json": {
       "model_id": "11bb9699d2764fb0b49ebcabbaf8b10b",
       "version_major": 2,
       "version_minor": 0
      },
      "text/plain": [
       "HBox(children=(FloatProgress(value=0.0, description='Downloading', max=2950909652.0, style=ProgressStyle(descr…"
      ]
     },
     "metadata": {},
     "output_type": "display_data"
    },
    {
     "name": "stdout",
     "output_type": "stream",
     "text": [
      "\n"
     ]
    }
   ],
   "source": [
    "answer_tokenizer = AutoTokenizer.from_pretrained(\"google/t5-large-ssm-nq\")\n",
    "answer_model = AutoModelForSeq2SeqLM.from_pretrained(\"google/t5-large-ssm-nq\")"
   ]
  },
  {
   "cell_type": "code",
   "execution_count": 38,
   "metadata": {},
   "outputs": [
    {
     "ename": "NameError",
     "evalue": "name 'question_tokenizer' is not defined",
     "output_type": "error",
     "traceback": [
      "\u001b[0;31m---------------------------------------------------------------------------\u001b[0m",
      "\u001b[0;31mNameError\u001b[0m                                 Traceback (most recent call last)",
      "\u001b[0;32m<ipython-input-38-ffae63b4cb62>\u001b[0m in \u001b[0;36m<module>\u001b[0;34m\u001b[0m\n\u001b[0;32m----> 1\u001b[0;31m \u001b[0mpipe\u001b[0m \u001b[0;34m=\u001b[0m \u001b[0mQAPipeline\u001b[0m\u001b[0;34m(\u001b[0m\u001b[0mquestion_tokenizer\u001b[0m\u001b[0;34m,\u001b[0m \u001b[0mquestion_model\u001b[0m\u001b[0;34m,\u001b[0m \u001b[0manswer_tokenizer\u001b[0m\u001b[0;34m,\u001b[0m \u001b[0manswer_model\u001b[0m\u001b[0;34m)\u001b[0m\u001b[0;34m\u001b[0m\u001b[0;34m\u001b[0m\u001b[0m\n\u001b[0m",
      "\u001b[0;31mNameError\u001b[0m: name 'question_tokenizer' is not defined"
     ]
    }
   ],
   "source": [
    "pipe = QAPipeline(question_tokenizer, question_model, answer_tokenizer, answer_model)"
   ]
  },
  {
   "cell_type": "code",
   "execution_count": null,
   "metadata": {},
   "outputs": [],
   "source": []
  },
  {
   "cell_type": "markdown",
   "metadata": {},
   "source": [
    "# Results\n",
    "\n",
    "Did it work?"
   ]
  },
  {
   "cell_type": "code",
   "execution_count": null,
   "metadata": {},
   "outputs": [],
   "source": []
  }
 ],
 "metadata": {
  "kernelspec": {
   "display_name": "Python 3",
   "language": "python",
   "name": "python3"
  },
  "language_info": {
   "codemirror_mode": {
    "name": "ipython",
    "version": 3
   },
   "file_extension": ".py",
   "mimetype": "text/x-python",
   "name": "python",
   "nbconvert_exporter": "python",
   "pygments_lexer": "ipython3",
   "version": "3.8.8"
  }
 },
 "nbformat": 4,
 "nbformat_minor": 4
}
