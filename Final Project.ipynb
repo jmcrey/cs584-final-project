{
 "cells": [
  {
   "cell_type": "markdown",
   "metadata": {},
   "source": [
    "# Training a Custom Entailment Model"
   ]
  },
  {
   "cell_type": "code",
   "execution_count": 39,
   "metadata": {},
   "outputs": [],
   "source": [
    "import os\n",
    "import numpy as np\n",
    "from tqdm import tqdm\n",
    "from typing import Tuple, Dict, List\n",
    "\n",
    "import torch\n",
    "import torch.nn as nn\n",
    "import torch.optim as optim\n",
    "\n",
    "from allennlp.predictors.predictor import Predictor\n",
    "from models.textual_entailment import TextualEntailment\n",
    "from datasets.arrow_dataset import Dataset\n",
    "\n",
    "\n",
    "class Entailment:\n",
    "    \n",
    "    def __init__(self, load_elmo: bool = True, input_dim: int = 400, load_path: str = None):\n",
    "        self.input_dim = 400\n",
    "        self.path = load_path\n",
    "        if load_elmo:\n",
    "            self._frozen = Predictor.from_path(\"./models/textual_entailment.tar.gz\", cuda_device=0)\n",
    "        self._model = self._model()\n",
    "        \n",
    "    def _map(self, label: int) -> str:\n",
    "        \"\"\" Maps the label to the value \"\"\"\n",
    "        switcher = {\n",
    "            0: 'SUPPORT',\n",
    "            1: 'NOT ENOUGH INFORMATION',\n",
    "            2: 'REFUTED'\n",
    "        }\n",
    "        return switcher[label]\n",
    "\n",
    "    def _model(self) -> nn.Sequential:\n",
    "        \"\"\" Builds the MLP for the classification \"\"\"\n",
    "        if self.path:\n",
    "            return self.load()\n",
    "        \n",
    "        model = nn.Sequential(\n",
    "          nn.Linear(400,100),\n",
    "          nn.ReLU(),\n",
    "          nn.Linear(100,3),\n",
    "          nn.Softmax(dim=1)\n",
    "        )\n",
    "        model.cuda()\n",
    "        return model\n",
    "    \n",
    "    def save(self, path: str = './models/entailment.model') -> None:\n",
    "        \"\"\" Saves the model to the file \"\"\"\n",
    "        torch.save(self._model.state_dict(), path)\n",
    "        \n",
    "    def load(self, path: str = './models/entailment.model') -> bool:\n",
    "        \"\"\" Loads the model, if possible \"\"\"\n",
    "        if os.path.exists(path):\n",
    "            self._model.load_state_dict(torch.load(path))\n",
    "            return True\n",
    "        raise ValueError(f\"Path {path} is not valid\")\n",
    "\n",
    "    def entail_dataset(self, dataset: Dataset, batch_size: int = 50, \n",
    "                       total_size: int = 30000) -> Tuple[torch.Tensor, torch.Tensor]:\n",
    "        \"\"\" Entails all the data and returns the entailed texts \"\"\"\n",
    "        dataset = dataset.shuffle(seed=42)[:total_size]\n",
    "        X = self.entail_batch(dataset['premise'], dataset['hypothesis'], batch_size)\n",
    "        y = torch.tensor(dataset['label'])\n",
    "        return X, y\n",
    "    \n",
    "    def entail_batch(self, premises: List[str], hypotheses: List[str], batch_size: int = 50) -> np.ndarray:\n",
    "        \"\"\" Entails all the data and returns the entailed texts \"\"\"\n",
    "        batches = [dict(premise=v[0], hypothesis=v[1]) for v in zip(premises, hypotheses)]\n",
    "        total_size = len(batches)\n",
    "        \n",
    "        if total_size < batch_size:\n",
    "            batch_size = total_size\n",
    "            \n",
    "        iters = int(total_size / batch_size)\n",
    "        X = list()\n",
    "        \n",
    "        start = 0\n",
    "        for j in tqdm(range(iters)):\n",
    "            end = start + batch_size\n",
    "            batch_json = self._frozen.predict_batch_json(batches[start:end])\n",
    "            X.extend([e['aggregate_input'] for e in batch_json])\n",
    "            start = end\n",
    "        return torch.tensor(X)\n",
    "        \n",
    "    def predict(self, premises: List[str], hypotheses: List[str], batch_size: int = 50) -> torch.Tensor:\n",
    "        \"\"\" Predicts the next word for the text \"\"\"\n",
    "        embedding = self.entail_batch(premises, hypotheses)\n",
    "        embedding = embedding.cuda()\n",
    "        preds = self._model(embedding)\n",
    "        return preds\n",
    "    \n",
    "    def evaluate(self, X: np.ndarray, y: np.ndarray) -> Tuple[float, float]:\n",
    "        \"\"\" Evaluates the model on the test set \"\"\"\n",
    "        n, _ = X.size()\n",
    "        val = self._model(X)\n",
    "        preds = torch.argmax(val, dim=1)\n",
    "        total = float(sum(preds == y)) / n\n",
    "        return total\n",
    "\n",
    "    def fit(self, X_train: torch.Tensor, y_train: torch.Tensor, X_val: torch.Tensor, y_val: torch.Tensor, \n",
    "            batch_size: int = 32, epochs: int = 100, shuffle: bool = True) -> Tuple[np.ndarray, np.ndarray, np.ndarray, np.ndarray]:\n",
    "        \"\"\" Fits the data on the model \"\"\"\n",
    "        criterion = nn.CrossEntropyLoss()\n",
    "        optimizer = optim.Adam(self._model.parameters(), lr=1E-3)\n",
    "        \n",
    "        X_train = X_train.cuda()\n",
    "        y_train = y_train.long().cuda()\n",
    "        X_val = X_val.cuda()\n",
    "        y_val = y_val.long().cuda()\n",
    "        \n",
    "        n, _ = X_train.shape\n",
    "        tr_iters = int(n / batch_size)\n",
    "        \n",
    "        n, _ = X_val.shape\n",
    "        val_iters = int(n / batch_size)\n",
    "        \n",
    "        train_loss = np.zeros(epochs)\n",
    "        train_acc = np.zeros(epochs)\n",
    "        validation_loss = np.zeros(epochs)\n",
    "        validation_acc = np.zeros(epochs)\n",
    "        for epoch in range(epochs):\n",
    "            # Train and Validation Loss\n",
    "            total_loss = self._fit(X_train, y_train, criterion, optimizer, tr_iters, batch_size, shuffle)\n",
    "            val_loss = self._loss(X_val, y_val, criterion, val_iters, batch_size, shuffle)\n",
    "            \n",
    "            total_acc = self.evaluate(X_train, y_train)\n",
    "            val_acc = self.evaluate(X_val, y_val)\n",
    "            \n",
    "            print('[%d] loss: %.7f acc: %.7f \\t val_loss: %.7f val_acc: %.7f' % \n",
    "                  (epoch + 1, total_loss, total_acc, val_loss, val_acc)\n",
    "                 )\n",
    "            \n",
    "            train_loss[epoch] = total_loss\n",
    "            train_acc[epoch] = total_acc\n",
    "            \n",
    "            validation_loss[epoch] = val_loss\n",
    "            validation_acc[epoch] = val_acc\n",
    "        return train_loss, train_acc, validation_loss, validation_acc\n",
    "    \n",
    "    def _fit(self, X: torch.Tensor, y: torch.Tensor, criterion: nn.CrossEntropyLoss, \n",
    "             optimizer: optim.Adam, num_iters: int, batch_size: int = 32, \n",
    "             shuffle: bool = True) -> Tuple[float, float]:\n",
    "        \"\"\" Runs an epoch of training \"\"\"\n",
    "        total_loss = 0.0\n",
    "        if shuffle: \n",
    "            indices = np.random.permutation(range(X.shape[0]))\n",
    "        else:\n",
    "            indices = list(range(X.shape[0]))\n",
    "\n",
    "        start = 0\n",
    "        for i in range(num_iters):\n",
    "            end = start + batch_size\n",
    "            i = indices[start:end]\n",
    "            xi, yi = X[i], y[i]\n",
    "\n",
    "            # zero the parameter gradients\n",
    "            optimizer.zero_grad()\n",
    "\n",
    "            # forward + backward + optimize\n",
    "            outputs = self._model(xi)\n",
    "            loss = criterion(outputs, yi)\n",
    "            loss.backward()\n",
    "            optimizer.step()\n",
    "\n",
    "            total_loss += loss.item()\n",
    "            start = end\n",
    "\n",
    "        total_loss /= X.shape[0]\n",
    "        return total_loss\n",
    "    \n",
    "    def _loss(self, X: torch.Tensor, y: torch.Tensor, criterion: nn.CrossEntropyLoss, \n",
    "              num_iters: int, batch_size: int = 32, shuffle: bool = True) -> Tuple[float, float]:\n",
    "        \"\"\" Runs an epoch of training \"\"\"\n",
    "        total_loss = 0.0\n",
    "\n",
    "        if shuffle: \n",
    "            indices = np.random.permutation(range(X.shape[0]))\n",
    "        else:\n",
    "            indices = list(range(X.shape[0]))\n",
    "\n",
    "        start = 0\n",
    "        for i in range(num_iters):\n",
    "            end = start + batch_size\n",
    "            i = indices[start:end]\n",
    "            xi, yi = X[i], y[i]\n",
    "\n",
    "            # forward + loss\n",
    "            outputs = self._model(xi)\n",
    "            loss = criterion(outputs, yi)\n",
    "            total_loss += loss.item()\n",
    "            start = end\n",
    "        total_loss /= X.shape[0]\n",
    "        return total_loss\n"
   ]
  },
  {
   "cell_type": "code",
   "execution_count": 3,
   "metadata": {},
   "outputs": [
    {
     "name": "stderr",
     "output_type": "stream",
     "text": [
      "Reusing dataset snli (/home/jmack/.cache/huggingface/datasets/snli/plain_text/1.0.0/1f60b67533b65ae0275561ff7828aad5ee4282d0e6f844fd148d05d3c6ea251b)\n"
     ]
    }
   ],
   "source": [
    "from datasets import load_dataset\n",
    "from datasets.arrow_dataset import Dataset\n",
    "\n",
    "snli_data = load_dataset('snli')"
   ]
  },
  {
   "cell_type": "code",
   "execution_count": 4,
   "metadata": {},
   "outputs": [
    {
     "data": {
      "text/plain": [
       "((550152, 3), (10000, 3), (10000, 3))"
      ]
     },
     "execution_count": 4,
     "metadata": {},
     "output_type": "execute_result"
    }
   ],
   "source": [
    "snli_data['train'].shape, snli_data['validation'].shape, snli_data['test'].shape"
   ]
  },
  {
   "cell_type": "code",
   "execution_count": 36,
   "metadata": {},
   "outputs": [],
   "source": [
    "entailment = Entailment()"
   ]
  },
  {
   "cell_type": "markdown",
   "metadata": {},
   "source": [
    "**Warning**: Do not run the below code unless you want to regenerate the entailments. **THIS TAKES A LONG TIME TO DO**"
   ]
  },
  {
   "cell_type": "markdown",
   "metadata": {},
   "source": [
    "```\n",
    "def get_balanced_data(entailment: Entailment, data: Dataset) -> Tuple[np.ndarray, np.ndarray]:\n",
    "    \"\"\" Gets the training data for the entailment model \"\"\"\n",
    "    entailments = data.filter(lambda x: x['label'] == 0)\n",
    "    neutrals = data.filter(lambda x: x['label'] == 1)\n",
    "    contradictions = data.filter(lambda x: x['label'] == 2)\n",
    "    X_entail, y_entail = entailment.entail_dataset(entailments, batch_size=100, total_size=100000)\n",
    "    X_neutral, y_neutral = entailment.entail_dataset(neutrals, batch_size=100, total_size=100000)\n",
    "    X_contra, y_contra = entailment.entail_dataset(contradictions, batch_size=100, total_size=100000)\n",
    "    X_train = torch.vstack((X_entail, X_neutral))\n",
    "    X_train = torch.vstack((X_train, X_contra))\n",
    "    y_train = torch.hstack((y_entail, y_neutral))\n",
    "    y_train = torch.hstack((y_train, y_contra))\n",
    "    return X_train, y_train\n",
    "\n",
    "X_train, y_train = get_balanced_data(entailment, snli_data['train'])\n",
    "X_train.shape, y_train.shape\n",
    "```"
   ]
  },
  {
   "cell_type": "markdown",
   "metadata": {},
   "source": [
    "```\n",
    "sum(y_train == 0), sum(y_train == 1), sum(y_train == 2)\n",
    "```"
   ]
  },
  {
   "cell_type": "markdown",
   "metadata": {},
   "source": [
    "```\n",
    "x_train_path = './data/x_train.pt'\n",
    "torch.save(X_train, x_train_path)\n",
    "\n",
    "y_train_path = './data/y_train.pt'\n",
    "torch.save(y_train, y_train_path)\n",
    "```"
   ]
  },
  {
   "cell_type": "markdown",
   "metadata": {},
   "source": [
    "```\n",
    "total_val = snli_data['validation'].shape[0]\n",
    "X_val, y_val = entailment.entail_dataset(snli_data['validation'], batch_size=100, total_size=total_val)\n",
    "X_val.shape, y_val.shape\n",
    "```"
   ]
  },
  {
   "cell_type": "markdown",
   "metadata": {},
   "source": [
    "```\n",
    "x_val_path = './data/x_validation.pt'\n",
    "torch.save(X_val, x_val_path)\n",
    "\n",
    "y_val_path = './data/y_validation.pt'\n",
    "torch.save(y_val, y_val_path)\n",
    "```"
   ]
  },
  {
   "cell_type": "markdown",
   "metadata": {},
   "source": [
    "```\n",
    "total_test = snli_data['test'].shape[0]\n",
    "X_test, y_test = entailment.entail_dataset(snli_data['test'], batch_size=100, total_size=total_test)\n",
    "X_test.shape, y_test.shape\n",
    "```"
   ]
  },
  {
   "cell_type": "markdown",
   "metadata": {},
   "source": [
    "```\n",
    "x_test_path = './data/x_test.pt'\n",
    "torch.save(X_test, x_test_path)\n",
    "\n",
    "y_test_path = './data/y_test.pt'\n",
    "torch.save(y_test, y_test_path)\n",
    "```"
   ]
  },
  {
   "cell_type": "code",
   "execution_count": 4,
   "metadata": {},
   "outputs": [],
   "source": [
    "def load_arrays(x_path: str, y_path: str) -> Tuple[torch.Tensor, torch.Tensor]:\n",
    "    X = torch.load(x_path)\n",
    "    y = torch.load(y_path)\n",
    "    return X, y"
   ]
  },
  {
   "cell_type": "code",
   "execution_count": 5,
   "metadata": {},
   "outputs": [
    {
     "data": {
      "text/plain": [
       "(torch.Size([300000, 400]), torch.Size([300000]))"
      ]
     },
     "execution_count": 5,
     "metadata": {},
     "output_type": "execute_result"
    }
   ],
   "source": [
    "x_train_path = './data/x_train.pt'\n",
    "y_train_path = './data/y_train.pt'\n",
    "\n",
    "X_train, y_train = load_arrays(x_train_path, y_train_path)\n",
    "X_train.shape, y_train.shape"
   ]
  },
  {
   "cell_type": "code",
   "execution_count": 6,
   "metadata": {},
   "outputs": [
    {
     "data": {
      "text/plain": [
       "(tensor(100000), tensor(100000), tensor(100000))"
      ]
     },
     "execution_count": 6,
     "metadata": {},
     "output_type": "execute_result"
    }
   ],
   "source": [
    "sum(y_train == 0), sum(y_train == 1), sum(y_train == 2)"
   ]
  },
  {
   "cell_type": "code",
   "execution_count": 7,
   "metadata": {},
   "outputs": [
    {
     "data": {
      "text/plain": [
       "(torch.Size([9842, 400]), torch.Size([9842]))"
      ]
     },
     "execution_count": 7,
     "metadata": {},
     "output_type": "execute_result"
    }
   ],
   "source": [
    "x_val_path = './data/x_validation.pt'\n",
    "y_val_path = './data/y_validation.pt'\n",
    "\n",
    "X_val, y_val = load_arrays(x_val_path, y_val_path)\n",
    "\n",
    "pos = torch.nonzero(y_val != -1)  # Remove -1\n",
    "pos = pos.reshape(pos.size()[0])  # Remove -1\n",
    "\n",
    "X_val = X_val[pos]\n",
    "y_val = y_val[pos]\n",
    "\n",
    "X_val.shape, y_val.shape"
   ]
  },
  {
   "cell_type": "code",
   "execution_count": 8,
   "metadata": {},
   "outputs": [
    {
     "data": {
      "text/plain": [
       "(tensor(3329), tensor(3235))"
      ]
     },
     "execution_count": 8,
     "metadata": {},
     "output_type": "execute_result"
    }
   ],
   "source": [
    "sum(y_val == 0), sum(y_val == 1)"
   ]
  },
  {
   "cell_type": "code",
   "execution_count": 9,
   "metadata": {},
   "outputs": [
    {
     "data": {
      "text/plain": [
       "(torch.Size([9824, 400]), torch.Size([9824]))"
      ]
     },
     "execution_count": 9,
     "metadata": {},
     "output_type": "execute_result"
    }
   ],
   "source": [
    "x_test_path = './data/x_test.pt'\n",
    "y_test_path = './data/y_test.pt'\n",
    "\n",
    "X_test, y_test = load_arrays(x_test_path, y_test_path)\n",
    "\n",
    "pos = torch.nonzero(y_test != -1)  # Remove -1\n",
    "pos = pos.reshape(pos.size()[0])  # Remove -1\n",
    "\n",
    "X_test = X_test[pos]\n",
    "y_test = y_test[pos]\n",
    "\n",
    "X_test.shape, y_test.shape"
   ]
  },
  {
   "cell_type": "code",
   "execution_count": 10,
   "metadata": {},
   "outputs": [
    {
     "data": {
      "text/plain": [
       "(tensor(3368), tensor(3219))"
      ]
     },
     "execution_count": 10,
     "metadata": {},
     "output_type": "execute_result"
    }
   ],
   "source": [
    "sum(y_test == 0), sum(y_test == 1)"
   ]
  },
  {
   "cell_type": "code",
   "execution_count": 41,
   "metadata": {},
   "outputs": [],
   "source": [
    "entailment = Entailment(False)"
   ]
  },
  {
   "cell_type": "code",
   "execution_count": 42,
   "metadata": {},
   "outputs": [
    {
     "name": "stdout",
     "output_type": "stream",
     "text": [
      "[1] loss: 0.0205498 acc: 0.8902500 \t val_loss: 0.0217112 val_acc: 0.8902500\n",
      "[2] loss: 0.0203360 acc: 0.9011433 \t val_loss: 0.0213159 val_acc: 0.9011433\n",
      "[3] loss: 0.0202859 acc: 0.9009300 \t val_loss: 0.0213976 val_acc: 0.9009300\n",
      "[4] loss: 0.0202514 acc: 0.9039433 \t val_loss: 0.0214007 val_acc: 0.9039433\n",
      "[5] loss: 0.0202195 acc: 0.9046733 \t val_loss: 0.0213258 val_acc: 0.9046733\n",
      "[6] loss: 0.0201945 acc: 0.9060600 \t val_loss: 0.0212593 val_acc: 0.9060600\n",
      "[7] loss: 0.0201695 acc: 0.9058400 \t val_loss: 0.0213143 val_acc: 0.9058400\n",
      "[8] loss: 0.0201569 acc: 0.9072133 \t val_loss: 0.0212545 val_acc: 0.9072133\n",
      "[9] loss: 0.0201347 acc: 0.9043167 \t val_loss: 0.0212862 val_acc: 0.9043167\n",
      "[10] loss: 0.0201164 acc: 0.9080133 \t val_loss: 0.0213465 val_acc: 0.9080133\n",
      "[11] loss: 0.0200967 acc: 0.9071600 \t val_loss: 0.0213771 val_acc: 0.9071600\n",
      "[12] loss: 0.0200894 acc: 0.9078900 \t val_loss: 0.0212464 val_acc: 0.9078900\n",
      "[13] loss: 0.0200703 acc: 0.9106733 \t val_loss: 0.0213038 val_acc: 0.9106733\n",
      "[14] loss: 0.0200538 acc: 0.9087800 \t val_loss: 0.0212874 val_acc: 0.9087800\n",
      "[15] loss: 0.0200410 acc: 0.9102833 \t val_loss: 0.0212968 val_acc: 0.9102833\n",
      "[16] loss: 0.0200252 acc: 0.9069200 \t val_loss: 0.0212473 val_acc: 0.9069200\n",
      "[17] loss: 0.0200199 acc: 0.9125800 \t val_loss: 0.0212783 val_acc: 0.9125800\n",
      "[18] loss: 0.0200050 acc: 0.9116067 \t val_loss: 0.0212658 val_acc: 0.9116067\n",
      "[19] loss: 0.0199841 acc: 0.9111933 \t val_loss: 0.0213221 val_acc: 0.9111933\n",
      "[20] loss: 0.0199731 acc: 0.9093967 \t val_loss: 0.0213644 val_acc: 0.9093967\n",
      "[21] loss: 0.0199634 acc: 0.9127967 \t val_loss: 0.0213477 val_acc: 0.9127967\n",
      "[22] loss: 0.0199444 acc: 0.9130767 \t val_loss: 0.0213151 val_acc: 0.9130767\n",
      "[23] loss: 0.0199377 acc: 0.9142433 \t val_loss: 0.0213470 val_acc: 0.9142433\n",
      "[24] loss: 0.0199081 acc: 0.9140200 \t val_loss: 0.0213395 val_acc: 0.9140200\n",
      "[25] loss: 0.0199057 acc: 0.9146800 \t val_loss: 0.0213545 val_acc: 0.9146800\n",
      "[26] loss: 0.0198911 acc: 0.9171400 \t val_loss: 0.0213283 val_acc: 0.9171400\n",
      "[27] loss: 0.0198760 acc: 0.9159100 \t val_loss: 0.0212743 val_acc: 0.9159100\n",
      "[28] loss: 0.0198601 acc: 0.9156100 \t val_loss: 0.0213628 val_acc: 0.9156100\n",
      "[29] loss: 0.0198519 acc: 0.9171367 \t val_loss: 0.0213380 val_acc: 0.9171367\n",
      "[30] loss: 0.0198329 acc: 0.9184600 \t val_loss: 0.0213565 val_acc: 0.9184600\n",
      "[31] loss: 0.0198207 acc: 0.9182267 \t val_loss: 0.0214104 val_acc: 0.9182267\n",
      "[32] loss: 0.0198169 acc: 0.9181833 \t val_loss: 0.0213694 val_acc: 0.9181833\n",
      "[33] loss: 0.0198017 acc: 0.9175700 \t val_loss: 0.0213902 val_acc: 0.9175700\n",
      "[34] loss: 0.0197938 acc: 0.9128100 \t val_loss: 0.0214537 val_acc: 0.9128100\n",
      "[35] loss: 0.0197928 acc: 0.9194467 \t val_loss: 0.0213656 val_acc: 0.9194467\n",
      "[36] loss: 0.0197719 acc: 0.9188567 \t val_loss: 0.0214116 val_acc: 0.9188567\n",
      "[37] loss: 0.0197659 acc: 0.9197400 \t val_loss: 0.0213715 val_acc: 0.9197400\n",
      "[38] loss: 0.0197517 acc: 0.9192900 \t val_loss: 0.0214304 val_acc: 0.9192900\n",
      "[39] loss: 0.0197400 acc: 0.9207767 \t val_loss: 0.0214206 val_acc: 0.9207767\n",
      "[40] loss: 0.0197407 acc: 0.9203467 \t val_loss: 0.0213865 val_acc: 0.9203467\n",
      "[41] loss: 0.0197290 acc: 0.9198200 \t val_loss: 0.0213755 val_acc: 0.9198200\n",
      "[42] loss: 0.0197292 acc: 0.9209300 \t val_loss: 0.0213598 val_acc: 0.9209300\n",
      "[43] loss: 0.0197140 acc: 0.9205467 \t val_loss: 0.0213967 val_acc: 0.9205467\n",
      "[44] loss: 0.0197062 acc: 0.9213400 \t val_loss: 0.0213973 val_acc: 0.9213400\n",
      "[45] loss: 0.0196949 acc: 0.9195333 \t val_loss: 0.0214011 val_acc: 0.9195333\n",
      "[46] loss: 0.0196941 acc: 0.9227400 \t val_loss: 0.0213640 val_acc: 0.9227400\n",
      "[47] loss: 0.0196710 acc: 0.9221800 \t val_loss: 0.0213940 val_acc: 0.9221800\n",
      "[48] loss: 0.0196699 acc: 0.9241667 \t val_loss: 0.0213634 val_acc: 0.9241667\n",
      "[49] loss: 0.0196667 acc: 0.9207467 \t val_loss: 0.0214480 val_acc: 0.9207467\n",
      "[50] loss: 0.0196644 acc: 0.9233533 \t val_loss: 0.0214303 val_acc: 0.9233533\n"
     ]
    }
   ],
   "source": [
    "loss, acc, val_loss, val_acc = entailment.fit(X_train, y_train, X_val, y_val, epochs=50)"
   ]
  },
  {
   "cell_type": "code",
   "execution_count": 44,
   "metadata": {},
   "outputs": [
    {
     "data": {
      "image/png": "[encoded data removed]",
      "text/plain": [
       "<Figure size 432x288 with 1 Axes>"
      ]
     },
     "metadata": {
      "needs_background": "light"
     },
     "output_type": "display_data"
    }
   ],
   "source": [
    "import matplotlib.pyplot as plt\n",
    "%matplotlib inline\n",
    "\n",
    "epochs = list(range(50))\n",
    "\n",
    "plt.plot(epochs, loss, 'bo', label='Training loss')\n",
    "plt.plot(epochs, val_loss, 'r', label='Validation loss')\n",
    "plt.xlabel('Epochs')\n",
    "plt.ylabel('Loss')\n",
    "plt.legend()\n",
    "plt.show()"
   ]
  },
  {
   "cell_type": "code",
   "execution_count": 45,
   "metadata": {},
   "outputs": [
    {
     "data": {
      "image/png": "[encoded data removed]",
      "text/plain": [
       "<Figure size 432x288 with 1 Axes>"
      ]
     },
     "metadata": {
      "needs_background": "light"
     },
     "output_type": "display_data"
    }
   ],
   "source": [
    "plt.plot(epochs, acc, 'bo', label='Training loss')\n",
    "plt.plot(epochs, val_acc, 'r', label='Validation loss')\n",
    "plt.xlabel('Epochs')\n",
    "plt.ylabel('Accuracy')\n",
    "plt.legend()\n",
    "plt.show()"
   ]
  },
  {
   "cell_type": "code",
   "execution_count": 46,
   "metadata": {},
   "outputs": [],
   "source": [
    "entailment.save()"
   ]
  },
  {
   "cell_type": "code",
   "execution_count": 47,
   "metadata": {},
   "outputs": [
    {
     "data": {
      "text/plain": [
       "0.8540309446254072"
      ]
     },
     "execution_count": 47,
     "metadata": {},
     "output_type": "execute_result"
    }
   ],
   "source": [
    "entailment.evaluate(X_test.cuda(), y_test.long().cuda())"
   ]
  },
  {
   "cell_type": "code",
   "execution_count": 48,
   "metadata": {},
   "outputs": [
    {
     "ename": "ValueError",
     "evalue": "Path None is not valid",
     "output_type": "error",
     "traceback": [
      "\u001b[0;31m---------------------------------------------------------------------------\u001b[0m",
      "\u001b[0;31mValueError\u001b[0m                                Traceback (most recent call last)",
      "\u001b[0;32m<ipython-input-48-47a2e0d3cceb>\u001b[0m in \u001b[0;36m<module>\u001b[0;34m\u001b[0m\n\u001b[1;32m      1\u001b[0m \u001b[0mmodel\u001b[0m \u001b[0;34m=\u001b[0m \u001b[0mEntailment\u001b[0m\u001b[0;34m(\u001b[0m\u001b[0;32mFalse\u001b[0m\u001b[0;34m)\u001b[0m\u001b[0;34m\u001b[0m\u001b[0;34m\u001b[0m\u001b[0m\n\u001b[0;32m----> 2\u001b[0;31m \u001b[0mmodel\u001b[0m\u001b[0;34m.\u001b[0m\u001b[0mload\u001b[0m\u001b[0;34m(\u001b[0m\u001b[0;34m)\u001b[0m\u001b[0;34m\u001b[0m\u001b[0;34m\u001b[0m\u001b[0m\n\u001b[0m\u001b[1;32m      3\u001b[0m \u001b[0mmodel\u001b[0m\u001b[0;34m.\u001b[0m\u001b[0mevaluate\u001b[0m\u001b[0;34m(\u001b[0m\u001b[0mX_test\u001b[0m\u001b[0;34m.\u001b[0m\u001b[0mcuda\u001b[0m\u001b[0;34m(\u001b[0m\u001b[0;34m)\u001b[0m\u001b[0;34m,\u001b[0m \u001b[0my_test\u001b[0m\u001b[0;34m.\u001b[0m\u001b[0mlong\u001b[0m\u001b[0;34m(\u001b[0m\u001b[0;34m)\u001b[0m\u001b[0;34m.\u001b[0m\u001b[0mcuda\u001b[0m\u001b[0;34m(\u001b[0m\u001b[0;34m)\u001b[0m\u001b[0;34m)\u001b[0m\u001b[0;34m\u001b[0m\u001b[0;34m\u001b[0m\u001b[0m\n",
      "\u001b[0;32m<ipython-input-39-7b983342f25c>\u001b[0m in \u001b[0;36mload\u001b[0;34m(self, path)\u001b[0m\n\u001b[1;32m     53\u001b[0m         \u001b[0;32mif\u001b[0m \u001b[0mos\u001b[0m\u001b[0;34m.\u001b[0m\u001b[0mpath\u001b[0m\u001b[0;34m.\u001b[0m\u001b[0mexists\u001b[0m\u001b[0;34m(\u001b[0m\u001b[0mpath\u001b[0m\u001b[0;34m)\u001b[0m\u001b[0;34m:\u001b[0m\u001b[0;34m\u001b[0m\u001b[0;34m\u001b[0m\u001b[0m\n\u001b[1;32m     54\u001b[0m             \u001b[0mself\u001b[0m\u001b[0;34m.\u001b[0m\u001b[0m_model\u001b[0m\u001b[0;34m.\u001b[0m\u001b[0mload_state_dict\u001b[0m\u001b[0;34m(\u001b[0m\u001b[0mtorch\u001b[0m\u001b[0;34m.\u001b[0m\u001b[0mload\u001b[0m\u001b[0;34m(\u001b[0m\u001b[0mpath\u001b[0m\u001b[0;34m)\u001b[0m\u001b[0;34m)\u001b[0m\u001b[0;34m\u001b[0m\u001b[0;34m\u001b[0m\u001b[0m\n\u001b[0;32m---> 55\u001b[0;31m         \u001b[0;32mraise\u001b[0m \u001b[0mValueError\u001b[0m\u001b[0;34m(\u001b[0m\u001b[0;34mf\"Path {self.path} is not valid\"\u001b[0m\u001b[0;34m)\u001b[0m\u001b[0;34m\u001b[0m\u001b[0;34m\u001b[0m\u001b[0m\n\u001b[0m\u001b[1;32m     56\u001b[0m \u001b[0;34m\u001b[0m\u001b[0m\n\u001b[1;32m     57\u001b[0m     def entail_dataset(self, dataset: Dataset, batch_size: int = 50, \n",
      "\u001b[0;31mValueError\u001b[0m: Path None is not valid"
     ]
    }
   ],
   "source": [
    "model = Entailment(False)\n",
    "model.load()\n",
    "model.evaluate(X_test.cuda(), y_test.long().cuda())"
   ]
  },
  {
   "cell_type": "markdown",
   "metadata": {},
   "source": [
    "# The Facebook Experiment\n",
    "\n",
    "1. Implement automatic masking\n",
    "2. Get the top 1 prediction from the LM \n",
    "3. Fill in the mask\n",
    "4. Use the claim and filled in sentence and input into an entailment model\n",
    "5. Input entailment into MLP for final fact-verification prediction"
   ]
  },
  {
   "cell_type": "code",
   "execution_count": 36,
   "metadata": {},
   "outputs": [],
   "source": [
    "import spacy\n",
    "from typing import Iterable\n",
    "import tensorflow as tf\n",
    "from sklearn.metrics import precision_recall_fscore_support, accuracy_score\n",
    "\n",
    "\n",
    "class Pipeline:\n",
    "    \n",
    "    def __init__(self, tokenizer, unmasker, predictor, mask_token: str = \"[MASK]\"):\n",
    "        self.nlp = spacy.load(\"en_core_web_sm\")\n",
    "        self.mask_token = mask_token\n",
    "        self.tokenizer = tokenizer\n",
    "        self.unmasker = unmasker\n",
    "        self.model = predictor\n",
    "    \n",
    "    def _mask(self, texts: List[str]) -> List[str]:\n",
    "        \"\"\" Masks the last named entity in the string \"\"\"\n",
    "        masked_sents = list()\n",
    "        for doc in self.nlp.pipe(texts, disable=[\"tok2vec\", \"tagger\", \"parser\", \"attribute_ruler\", \"lemmatizer\"]):\n",
    "            ents = doc.ents\n",
    "            target = ents[-1].text.split()[-1]\n",
    "            if self.tokenizer.vocab.get(target):  # If the target is not in the vocab, skip the entry\n",
    "                masked = doc.text.replace(target, mask_token)\n",
    "                masked_sents.append(masked)\n",
    "        return masked_sents\n",
    "    \n",
    "    def _fill_mask(self, texts: Iterable) -> List[str]:\n",
    "        \"\"\" Fills the masked token with the  top-1 predicted value \"\"\"\n",
    "        preds = list()\n",
    "        for text in texts:\n",
    "            tokens = self.tokenizer(text, return_tensors='tf')['input_ids']\n",
    "            masked_index = tf.where(tokens[0] == self.tokenizer.mask_token_id).numpy()\n",
    "\n",
    "            outputs = self.unmasker(tokens)\n",
    "            logits = outputs.logits[0, masked_index.item(), :]\n",
    "            probs = tf.nn.softmax(logits)\n",
    "            topk = tf.math.top_k(probs, k=1)\n",
    "            values, predictions = topk.values.numpy(), topk.indices.numpy()\n",
    "            \n",
    "            pred = tokenizer.decode(predictions)\n",
    "            preds.append(text.replace(self.mask_token, pred))\n",
    "        return preds\n",
    "    \n",
    "    def forward(self, claims: List[str]) -> np.ndarray:\n",
    "        \"\"\" Predicts the next word for the text \"\"\"\n",
    "        masked = self._mask(texts)\n",
    "        claims = self._fill_mask(masked)\n",
    "        preds = self.model.predict(texts, claims)\n",
    "        return preds\n",
    "    \n",
    "    def evaluate(self, claims: List[str], labels: List[str]) -> Tuple[float, float, float, float]\n",
    "        \"\"\" Evaluates how well the model is able to predict \"\"\"\n",
    "        y_true = np.array([self._map(label) for label in labels])\n",
    "        y_pred = np.argmax(self.forward(claims), axis=1)\n",
    "        precision, recall, f1 = precision_recall_fscore_support(y_true, y_pred)\n",
    "        acc = accuracy_score(y_true, y_pred)\n",
    "        return acc, precision, recall, f1\n",
    "    \n",
    "    def _map(self, label: int) -> str:\n",
    "        \"\"\" Maps the label to the value \"\"\"\n",
    "        switcher = {\n",
    "            'SUPPORT': 0,\n",
    "            'NOT ENOUGH INFORMATION': 1,\n",
    "            'REFUTED': 2\n",
    "        }\n",
    "        return switcher[label]"
   ]
  },
  {
   "cell_type": "code",
   "execution_count": 45,
   "metadata": {},
   "outputs": [],
   "source": [
    "model = Entailment(load_path='./models/entailment.model')"
   ]
  },
  {
   "cell_type": "code",
   "execution_count": 34,
   "metadata": {},
   "outputs": [
    {
     "name": "stderr",
     "output_type": "stream",
     "text": [
      "All model checkpoint layers were used when initializing TFBertForMaskedLM.\n",
      "\n",
      "All the layers of TFBertForMaskedLM were initialized from the model checkpoint at bert-large-cased.\n",
      "If your task is similar to the task the model of the checkpoint was trained on, you can already use TFBertForMaskedLM for predictions without further training.\n"
     ]
    }
   ],
   "source": [
    "from transformers import BertTokenizer, BertForMaskedLM\n",
    "import tensorflow as tf\n",
    "\n",
    "tokenizer = BertTokenizer.from_pretrained('bert-large-cased')\n",
    "unmasker = TFBertForMaskedLM.from_pretrained('bert-large-cased')"
   ]
  },
  {
   "cell_type": "code",
   "execution_count": 35,
   "metadata": {},
   "outputs": [],
   "source": [
    "test1 = \"Thomas Jefferson founded the University of Virginia after retiring.\"\n",
    "test2 = \"Microsoft's headquarters are in Redmond.\"\n",
    "test3 = \"Tim Roth is an English actor.\"\n",
    "texts = [test1,test2,test3]\n",
    "mask_token = \"[MASK]\""
   ]
  },
  {
   "cell_type": "code",
   "execution_count": 46,
   "metadata": {},
   "outputs": [
    {
     "name": "stderr",
     "output_type": "stream",
     "text": [
      "100%|██████████| 1/1 [00:00<00:00,  2.52it/s]\n"
     ]
    },
    {
     "data": {
      "text/plain": [
       "array([[0],\n",
       "       [0],\n",
       "       [0]])"
      ]
     },
     "execution_count": 46,
     "metadata": {},
     "output_type": "execute_result"
    }
   ],
   "source": [
    "pipe = Pipeline(tokenizer, unmasker, model)\n",
    "pipe.forward(texts)"
   ]
  },
  {
   "cell_type": "code",
   "execution_count": 58,
   "metadata": {},
   "outputs": [
    {
     "name": "stdout",
     "output_type": "stream",
     "text": [
      "Downloading and preparing dataset fever/v1.0 (download: 42.78 MiB, generated: 38.39 MiB, post-processed: Unknown size, total: 81.17 MiB) to /home/jmack/.cache/huggingface/datasets/fever/v1.0/1.0.0/fe391c4f48669454ae0d368997430e6fa476aacb476d930d3328b67356e74625...\n"
     ]
    },
    {
     "data": {
      "application/vnd.jupyter.widget-view+json": {
       "model_id": "bbc6268193f14313804ac3034d147332",
       "version_major": 2,
       "version_minor": 0
      },
      "text/plain": [
       "HBox(children=(HTML(value='Downloading'), FloatProgress(value=0.0, max=33024303.0), HTML(value='')))"
      ]
     },
     "metadata": {},
     "output_type": "display_data"
    },
    {
     "name": "stdout",
     "output_type": "stream",
     "text": [
      "\n"
     ]
    },
    {
     "data": {
      "application/vnd.jupyter.widget-view+json": {
       "model_id": "b03d7f2ee8e249d8b3b098e93710cbfc",
       "version_major": 2,
       "version_minor": 0
      },
      "text/plain": [
       "HBox(children=(HTML(value='Downloading'), FloatProgress(value=0.0, max=4349935.0), HTML(value='')))"
      ]
     },
     "metadata": {},
     "output_type": "display_data"
    },
    {
     "name": "stdout",
     "output_type": "stream",
     "text": [
      "\n"
     ]
    },
    {
     "data": {
      "application/vnd.jupyter.widget-view+json": {
       "model_id": "ce4eed32fe0949aaaf53d210b5bd9afe",
       "version_major": 2,
       "version_minor": 0
      },
      "text/plain": [
       "HBox(children=(HTML(value='Downloading'), FloatProgress(value=0.0, max=1530640.0), HTML(value='')))"
      ]
     },
     "metadata": {},
     "output_type": "display_data"
    },
    {
     "name": "stdout",
     "output_type": "stream",
     "text": [
      "\n"
     ]
    },
    {
     "data": {
      "application/vnd.jupyter.widget-view+json": {
       "model_id": "f8b09e614deb481186402373a29595f3",
       "version_major": 2,
       "version_minor": 0
      },
      "text/plain": [
       "HBox(children=(HTML(value='Downloading'), FloatProgress(value=0.0, max=1599159.0), HTML(value='')))"
      ]
     },
     "metadata": {},
     "output_type": "display_data"
    },
    {
     "name": "stdout",
     "output_type": "stream",
     "text": [
      "\n"
     ]
    },
    {
     "data": {
      "application/vnd.jupyter.widget-view+json": {
       "model_id": "858fb0fec884409e83baaadf86e6fa76",
       "version_major": 2,
       "version_minor": 0
      },
      "text/plain": [
       "HBox(children=(HTML(value='Downloading'), FloatProgress(value=0.0, max=2168767.0), HTML(value='')))"
      ]
     },
     "metadata": {},
     "output_type": "display_data"
    },
    {
     "name": "stdout",
     "output_type": "stream",
     "text": [
      "\n"
     ]
    },
    {
     "data": {
      "application/vnd.jupyter.widget-view+json": {
       "model_id": "cc93a82cb1e148788deb94a33f94dc2e",
       "version_major": 2,
       "version_minor": 0
      },
      "text/plain": [
       "HBox(children=(HTML(value='Downloading'), FloatProgress(value=0.0, max=2181168.0), HTML(value='')))"
      ]
     },
     "metadata": {},
     "output_type": "display_data"
    },
    {
     "name": "stdout",
     "output_type": "stream",
     "text": [
      "\n"
     ]
    },
    {
     "data": {
      "application/vnd.jupyter.widget-view+json": {
       "model_id": "",
       "version_major": 2,
       "version_minor": 0
      },
      "text/plain": [
       "HBox(children=(HTML(value=''), FloatProgress(value=1.0, bar_style='info', layout=Layout(width='20px'), max=1.0…"
      ]
     },
     "metadata": {},
     "output_type": "display_data"
    },
    {
     "data": {
      "application/vnd.jupyter.widget-view+json": {
       "model_id": "",
       "version_major": 2,
       "version_minor": 0
      },
      "text/plain": [
       "HBox(children=(HTML(value=''), FloatProgress(value=1.0, bar_style='info', layout=Layout(width='20px'), max=1.0…"
      ]
     },
     "metadata": {},
     "output_type": "display_data"
    },
    {
     "data": {
      "application/vnd.jupyter.widget-view+json": {
       "model_id": "",
       "version_major": 2,
       "version_minor": 0
      },
      "text/plain": [
       "HBox(children=(HTML(value=''), FloatProgress(value=1.0, bar_style='info', layout=Layout(width='20px'), max=1.0…"
      ]
     },
     "metadata": {},
     "output_type": "display_data"
    },
    {
     "data": {
      "application/vnd.jupyter.widget-view+json": {
       "model_id": "",
       "version_major": 2,
       "version_minor": 0
      },
      "text/plain": [
       "HBox(children=(HTML(value=''), FloatProgress(value=1.0, bar_style='info', layout=Layout(width='20px'), max=1.0…"
      ]
     },
     "metadata": {},
     "output_type": "display_data"
    },
    {
     "data": {
      "application/vnd.jupyter.widget-view+json": {
       "model_id": "",
       "version_major": 2,
       "version_minor": 0
      },
      "text/plain": [
       "HBox(children=(HTML(value=''), FloatProgress(value=1.0, bar_style='info', layout=Layout(width='20px'), max=1.0…"
      ]
     },
     "metadata": {},
     "output_type": "display_data"
    },
    {
     "data": {
      "application/vnd.jupyter.widget-view+json": {
       "model_id": "",
       "version_major": 2,
       "version_minor": 0
      },
      "text/plain": [
       "HBox(children=(HTML(value=''), FloatProgress(value=1.0, bar_style='info', layout=Layout(width='20px'), max=1.0…"
      ]
     },
     "metadata": {},
     "output_type": "display_data"
    },
    {
     "name": "stdout",
     "output_type": "stream",
     "text": [
      "Dataset fever downloaded and prepared to /home/jmack/.cache/huggingface/datasets/fever/v1.0/1.0.0/fe391c4f48669454ae0d368997430e6fa476aacb476d930d3328b67356e74625. Subsequent calls will reuse this data.\n"
     ]
    }
   ],
   "source": [
    "dataset = load_dataset('fever', 'v1.0')"
   ]
  },
  {
   "cell_type": "code",
   "execution_count": 61,
   "metadata": {},
   "outputs": [
    {
     "data": {
      "text/plain": [
       "{'claim': ['Nikolaj Coster-Waldau worked with the Fox Broadcasting Company.',\n",
       "  'Nikolaj Coster-Waldau worked with the Fox Broadcasting Company.',\n",
       "  'Roman Atwood is a content creator.',\n",
       "  'Roman Atwood is a content creator.',\n",
       "  'History of art includes architecture, dance, sculpture, music, painting, poetry literature, theatre, narrative, film, photography and graphic arts.'],\n",
       " 'evidence_annotation_id': [92206, 92206, 174271, 174271, 255136],\n",
       " 'evidence_id': [104971, 104971, 187498, 187499, 254645],\n",
       " 'evidence_sentence_id': [7, -1, 1, 3, 2],\n",
       " 'evidence_wiki_url': ['Nikolaj_Coster-Waldau',\n",
       "  'Fox_Broadcasting_Company',\n",
       "  'Roman_Atwood',\n",
       "  'Roman_Atwood',\n",
       "  'History_of_art'],\n",
       " 'id': [75397, 75397, 150448, 150448, 214861],\n",
       " 'label': ['SUPPORTS', 'SUPPORTS', 'SUPPORTS', 'SUPPORTS', 'SUPPORTS']}"
      ]
     },
     "execution_count": 61,
     "metadata": {},
     "output_type": "execute_result"
    }
   ],
   "source": [
    "dataset['train'][0:5]"
   ]
  },
  {
   "cell_type": "code",
   "execution_count": 52,
   "metadata": {},
   "outputs": [
    {
     "name": "stderr",
     "output_type": "stream",
     "text": [
      "100%|██████████| 1/1 [00:00<00:00,  2.53it/s]\n"
     ]
    }
   ],
   "source": [
    "out = model.predict(texts, filled)"
   ]
  },
  {
   "cell_type": "code",
   "execution_count": 56,
   "metadata": {},
   "outputs": [
    {
     "data": {
      "text/plain": [
       "array([[7.0920089e-16],\n",
       "       [2.7299342e-01],\n",
       "       [9.9992239e-01]], dtype=float32)"
      ]
     },
     "execution_count": 56,
     "metadata": {},
     "output_type": "execute_result"
    }
   ],
   "source": [
    "out"
   ]
  },
  {
   "cell_type": "code",
   "execution_count": 22,
   "metadata": {},
   "outputs": [],
   "source": [
    "import spacy\n",
    "from typing import Iterable\n",
    "\n",
    "NLP = spacy.load(\"en_core_web_trf\")\n",
    "\n",
    "def mask_last_named_entity(texts: Iterable, mask_token: str = \"[MASK]\") -> str:\n",
    "    \"\"\" Masks the last named entity in the string \"\"\"\n",
    "    masked_sents = list()\n",
    "    for doc in NLP.pipe(texts, disable=[\"tok2vec\", \"tagger\", \"parser\", \"attribute_ruler\", \"lemmatizer\"]):\n",
    "        ents = doc.ents\n",
    "        target = ents[-1].text.split()[-1]\n",
    "        masked = doc.text.replace(target, mask_token)\n",
    "        masked_sents.append(masked)\n",
    "    return masked_sents"
   ]
  },
  {
   "cell_type": "code",
   "execution_count": 64,
   "metadata": {},
   "outputs": [
    {
     "data": {
      "text/plain": [
       "['Thomas Jefferson founded the University of [MASK] after retiring.',\n",
       " \"Microsoft's headquarters are in [MASK].\",\n",
       " 'Tim Roth is an [MASK] actor.']"
      ]
     },
     "execution_count": 64,
     "metadata": {},
     "output_type": "execute_result"
    }
   ],
   "source": [
    "masked = mask_last_named_entity([test1, test2, test3], mask_token) \n",
    "masked"
   ]
  },
  {
   "cell_type": "code",
   "execution_count": 72,
   "metadata": {},
   "outputs": [],
   "source": [
    "def predict(tokenizer, model, sentences: list) -> list:\n",
    "    filled = list()\n",
    "    for sent in sentences:\n",
    "        tokens = tokenizer(sent, return_tensors='tf')['input_ids']\n",
    "        masked_index = tf.where(tokens[0] == tokenizer.mask_token_id).numpy()\n",
    "        \n",
    "        outputs = model(tokens)\n",
    "        logits = outputs.logits[0, masked_index.item(), :]\n",
    "        probs = tf.nn.softmax(logits)\n",
    "        topk = tf.math.top_k(probs, k=1)\n",
    "        values, predictions = topk.values.numpy(), topk.indices.numpy()\n",
    "        \n",
    "        pred = tokenizer.decode(predictions)\n",
    "        filled.append(sent.replace('[MASK]', pred))\n",
    "    return filled"
   ]
  },
  {
   "cell_type": "code",
   "execution_count": 73,
   "metadata": {},
   "outputs": [
    {
     "data": {
      "text/plain": [
       "['Thomas Jefferson founded the University of Virginia after retiring.',\n",
       " \"Microsoft's headquarters are in Atlanta.\",\n",
       " 'Tim Roth is an American actor.']"
      ]
     },
     "execution_count": 73,
     "metadata": {},
     "output_type": "execute_result"
    }
   ],
   "source": [
    "predict(tokenizer, model, masked)"
   ]
  },
  {
   "cell_type": "code",
   "execution_count": 5,
   "metadata": {},
   "outputs": [],
   "source": [
    "outputs = predictor.predict(\n",
    "        premise=\"Two women are wandering along the shore drinking iced tea.\",\n",
    "        hypothesis=\"Two women are sitting on a blanket near some rocks talking about politics.\"\n",
    "    )"
   ]
  },
  {
   "cell_type": "code",
   "execution_count": 16,
   "metadata": {},
   "outputs": [
    {
     "data": {
      "text/plain": [
       "(1, 400)"
      ]
     },
     "execution_count": 16,
     "metadata": {},
     "output_type": "execute_result"
    }
   ],
   "source": [
    "model_inputs = np.array([outputs['aggregate_input']])\n",
    "model_inputs.shape"
   ]
  },
  {
   "cell_type": "code",
   "execution_count": 11,
   "metadata": {},
   "outputs": [
    {
     "name": "stdout",
     "output_type": "stream",
     "text": [
      "Model: \"sequential_2\"\n",
      "_________________________________________________________________\n",
      "Layer (type)                 Output Shape              Param #   \n",
      "=================================================================\n",
      "dense_4 (Dense)              (None, 100)               40100     \n",
      "_________________________________________________________________\n",
      "dense_5 (Dense)              (None, 1)                 101       \n",
      "=================================================================\n",
      "Total params: 40,201\n",
      "Trainable params: 40,201\n",
      "Non-trainable params: 0\n",
      "_________________________________________________________________\n"
     ]
    }
   ],
   "source": [
    "from keras.models import Sequential\n",
    "from keras.layers import Dense\n",
    "from keras.optimizers import Adam\n",
    "\n",
    "model = Sequential()\n",
    "model.add(Dense(100, activation='relu', input_shape=(400,)))\n",
    "model.add(Dense(1, activation='sigmoid'))\n",
    "model.summary()"
   ]
  },
  {
   "cell_type": "code",
   "execution_count": 12,
   "metadata": {},
   "outputs": [],
   "source": [
    "model.compile(optimizer=Adam(lr=1E-3), loss='binary_crossentropy', \n",
    "                  metrics=['acc'])"
   ]
  },
  {
   "cell_type": "code",
   "execution_count": 17,
   "metadata": {},
   "outputs": [
    {
     "data": {
      "text/plain": [
       "array([[0.64905727]], dtype=float32)"
      ]
     },
     "execution_count": 17,
     "metadata": {},
     "output_type": "execute_result"
    }
   ],
   "source": [
    "model.predict(model_inputs)"
   ]
  },
  {
   "cell_type": "code",
   "execution_count": 57,
   "metadata": {},
   "outputs": [
    {
     "name": "stderr",
     "output_type": "stream",
     "text": [
      "lerc is not a registered model.\n",
      "roberta-rte is not a registered model.\n"
     ]
    },
    {
     "data": {
      "text/plain": [
       "'textual_entailment'"
      ]
     },
     "execution_count": 57,
     "metadata": {},
     "output_type": "execute_result"
    }
   ],
   "source": [
    "from allennlp_models import pretrained\n",
    "\n",
    "pretrained.get_pretrained_models()['pair-classification-decomposable-attention-elmo'].task_id"
   ]
  },
  {
   "cell_type": "code",
   "execution_count": 36,
   "metadata": {},
   "outputs": [
    {
     "ename": "TypeError",
     "evalue": "__init__() missing 6 required positional arguments: 'vocab', 'text_field_embedder', 'attend_feedforward', 'matrix_attention', 'compare_feedforward', and 'aggregate_feedforward'",
     "output_type": "error",
     "traceback": [
      "\u001b[0;31m---------------------------------------------------------------------------\u001b[0m",
      "\u001b[0;31mTypeError\u001b[0m                                 Traceback (most recent call last)",
      "\u001b[0;32m<ipython-input-36-cd6fa6b91752>\u001b[0m in \u001b[0;36m<module>\u001b[0;34m\u001b[0m\n\u001b[1;32m      1\u001b[0m \u001b[0;32mfrom\u001b[0m \u001b[0mallennlp_models\u001b[0m\u001b[0;34m.\u001b[0m\u001b[0mpair_classification\u001b[0m\u001b[0;34m.\u001b[0m\u001b[0mmodels\u001b[0m \u001b[0;32mimport\u001b[0m \u001b[0mDecomposableAttention\u001b[0m\u001b[0;34m\u001b[0m\u001b[0;34m\u001b[0m\u001b[0m\n\u001b[1;32m      2\u001b[0m \u001b[0;34m\u001b[0m\u001b[0m\n\u001b[0;32m----> 3\u001b[0;31m \u001b[0mmodel\u001b[0m \u001b[0;34m=\u001b[0m \u001b[0mDecomposableAttention\u001b[0m\u001b[0;34m(\u001b[0m\u001b[0;34m)\u001b[0m\u001b[0;34m\u001b[0m\u001b[0;34m\u001b[0m\u001b[0m\n\u001b[0m",
      "\u001b[0;31mTypeError\u001b[0m: __init__() missing 6 required positional arguments: 'vocab', 'text_field_embedder', 'attend_feedforward', 'matrix_attention', 'compare_feedforward', and 'aggregate_feedforward'"
     ]
    }
   ],
   "source": [
    "from allennlp_models.pair_classification.models import DecomposableAttention\n",
    "\n",
    "model = DecomposableAttention()"
   ]
  },
  {
   "cell_type": "code",
   "execution_count": 21,
   "metadata": {},
   "outputs": [
    {
     "name": "stderr",
     "output_type": "stream",
     "text": [
      "lerc is not a registered model.\n",
      "roberta-rte is not a registered model.\n"
     ]
    }
   ],
   "source": [
    "pred = pretrained.load_predictor('pair-classification-decomposable-attention-elmo')"
   ]
  },
  {
   "cell_type": "code",
   "execution_count": 58,
   "metadata": {},
   "outputs": [],
   "source": [
    "outputs = pred.predict(\n",
    "        premise=\"Two women are wandering along the shore drinking iced tea.\",\n",
    "        hypothesis=\"Two women are sitting on a blanket near some rocks talking about politics.\"\n",
    "    )"
   ]
  },
  {
   "cell_type": "code",
   "execution_count": 59,
   "metadata": {},
   "outputs": [
    {
     "data": {
      "text/plain": [
       "{'label_logits': [-3.349437952041626, 4.429553985595703, 0.9683454036712646],\n",
       " 'label_probs': [0.00040553370490670204,\n",
       "  0.9691703915596008,\n",
       "  0.030424002557992935],\n",
       " 'h2p_attention': [[0.6542813777923584,\n",
       "   0.04181642830371857,\n",
       "   0.044751670211553574,\n",
       "   0.04774125665426254,\n",
       "   0.032621681690216064,\n",
       "   0.02951720543205738,\n",
       "   0.0222022645175457,\n",
       "   0.02251223288476467,\n",
       "   0.022536294534802437,\n",
       "   0.03395495191216469,\n",
       "   0.025392329320311546,\n",
       "   0.02267230674624443],\n",
       "  [2.8718852263409644e-05,\n",
       "   0.9997602105140686,\n",
       "   2.671044239832554e-05,\n",
       "   3.0569222872145474e-05,\n",
       "   1.630610495340079e-05,\n",
       "   1.6656915249768645e-05,\n",
       "   2.2438669475377537e-05,\n",
       "   1.677172986092046e-05,\n",
       "   1.8310134692001157e-05,\n",
       "   3.356780143803917e-05,\n",
       "   1.4835497495369054e-05,\n",
       "   1.4929611097613815e-05],\n",
       "  [0.10177356749773026,\n",
       "   0.08759545534849167,\n",
       "   0.1118234395980835,\n",
       "   0.11648961156606674,\n",
       "   0.08897500485181808,\n",
       "   0.10866256058216095,\n",
       "   0.06278194487094879,\n",
       "   0.06688541173934937,\n",
       "   0.06301344931125641,\n",
       "   0.07898420095443726,\n",
       "   0.06009376421570778,\n",
       "   0.05292144790291786],\n",
       "  [0.0004623697604984045,\n",
       "   0.0005366479163058102,\n",
       "   0.0013094748137518764,\n",
       "   0.9844369888305664,\n",
       "   0.0037109607364982367,\n",
       "   0.0008001072565093637,\n",
       "   0.000759141577873379,\n",
       "   0.00399616826325655,\n",
       "   0.0005880572716705501,\n",
       "   0.0022712009958922863,\n",
       "   0.0006370970513671637,\n",
       "   0.0004917914629913867],\n",
       "  [0.021879466250538826,\n",
       "   0.016263877972960472,\n",
       "   0.043620962649583817,\n",
       "   0.3232453167438507,\n",
       "   0.12519335746765137,\n",
       "   0.21580788493156433,\n",
       "   0.03572555258870125,\n",
       "   0.09783807396888733,\n",
       "   0.03638046607375145,\n",
       "   0.04659603163599968,\n",
       "   0.022638076916337013,\n",
       "   0.014810925349593163],\n",
       "  [0.017246725037693977,\n",
       "   0.011929051950573921,\n",
       "   0.031438130885362625,\n",
       "   0.2378472089767456,\n",
       "   0.06237583979964256,\n",
       "   0.4272131025791168,\n",
       "   0.038840629160404205,\n",
       "   0.05050673708319664,\n",
       "   0.05539732053875923,\n",
       "   0.04054877907037735,\n",
       "   0.016226788982748985,\n",
       "   0.010429643094539642],\n",
       "  [0.0102377999573946,\n",
       "   0.010660983622074127,\n",
       "   0.012148184701800346,\n",
       "   0.4098280966281891,\n",
       "   0.024485282599925995,\n",
       "   0.049786731600761414,\n",
       "   0.36476778984069824,\n",
       "   0.028135929256677628,\n",
       "   0.031522396951913834,\n",
       "   0.043300505727529526,\n",
       "   0.008045729249715805,\n",
       "   0.007080606184899807],\n",
       "  [0.012575305067002773,\n",
       "   0.013238711282610893,\n",
       "   0.032401192933321,\n",
       "   0.24183233082294464,\n",
       "   0.13379737734794617,\n",
       "   0.3817344009876251,\n",
       "   0.06835024803876877,\n",
       "   0.05440527945756912,\n",
       "   0.015210701152682304,\n",
       "   0.02560754492878914,\n",
       "   0.012246701866388321,\n",
       "   0.008600177243351936],\n",
       "  [0.02550632879137993,\n",
       "   0.02194177731871605,\n",
       "   0.04952565208077431,\n",
       "   0.0795864388346672,\n",
       "   0.0690709576010704,\n",
       "   0.5571142435073853,\n",
       "   0.05692204087972641,\n",
       "   0.03753482177853584,\n",
       "   0.030629552900791168,\n",
       "   0.04115668684244156,\n",
       "   0.017573071643710136,\n",
       "   0.013438398018479347],\n",
       "  [0.0032999140676110983,\n",
       "   0.0037106797099113464,\n",
       "   0.00489591620862484,\n",
       "   0.01287841983139515,\n",
       "   0.009935688227415085,\n",
       "   0.050064265727996826,\n",
       "   0.6458783745765686,\n",
       "   0.012672769837081432,\n",
       "   0.16958104074001312,\n",
       "   0.08052573353052139,\n",
       "   0.0033406356815248728,\n",
       "   0.0032165131997317076],\n",
       "  [0.011913090944290161,\n",
       "   0.009290369227528572,\n",
       "   0.0199927669018507,\n",
       "   0.42288175225257874,\n",
       "   0.02823151834309101,\n",
       "   0.02082984149456024,\n",
       "   0.014663374982774258,\n",
       "   0.33708497881889343,\n",
       "   0.058575790375471115,\n",
       "   0.05190961807966232,\n",
       "   0.017143506556749344,\n",
       "   0.007483404595404863],\n",
       "  [0.028186608105897903,\n",
       "   0.025777099654078484,\n",
       "   0.05010043457150459,\n",
       "   0.40535101294517517,\n",
       "   0.07974492758512497,\n",
       "   0.07758960872888565,\n",
       "   0.0279350895434618,\n",
       "   0.1694972813129425,\n",
       "   0.04901993274688721,\n",
       "   0.05365008860826492,\n",
       "   0.021943798288702965,\n",
       "   0.011204180307686329],\n",
       "  [0.003791020717471838,\n",
       "   0.0037876616697758436,\n",
       "   0.005148179829120636,\n",
       "   0.04601581394672394,\n",
       "   0.007641100324690342,\n",
       "   0.009489400312304497,\n",
       "   0.01279785018414259,\n",
       "   0.11390943080186844,\n",
       "   0.20984220504760742,\n",
       "   0.5805724263191223,\n",
       "   0.0038965558633208275,\n",
       "   0.0031084204092621803],\n",
       "  [0.07601422071456909,\n",
       "   0.06725233048200607,\n",
       "   0.08519984036684036,\n",
       "   0.13195280730724335,\n",
       "   0.07711151987314224,\n",
       "   0.08093569427728653,\n",
       "   0.0706259161233902,\n",
       "   0.09599754959344864,\n",
       "   0.08104491233825684,\n",
       "   0.07409657537937164,\n",
       "   0.09086937457323074,\n",
       "   0.06889919191598892],\n",
       "  [0.08347291499376297,\n",
       "   0.08220735937356949,\n",
       "   0.08219696581363678,\n",
       "   0.08517542481422424,\n",
       "   0.07966078072786331,\n",
       "   0.08381462097167969,\n",
       "   0.0845530554652214,\n",
       "   0.08125219494104385,\n",
       "   0.08679300546646118,\n",
       "   0.0875125303864479,\n",
       "   0.08170206844806671,\n",
       "   0.08165907859802246]],\n",
       " 'p2h_attention': [[0.5794978737831116,\n",
       "   0.038077544420957565,\n",
       "   0.037115372717380524,\n",
       "   0.01881016418337822,\n",
       "   0.02877109684050083,\n",
       "   0.03250500187277794,\n",
       "   0.0274263434112072,\n",
       "   0.028178894892334938,\n",
       "   0.03750938922166824,\n",
       "   0.02097991108894348,\n",
       "   0.03461119532585144,\n",
       "   0.050881993025541306,\n",
       "   0.024034641683101654,\n",
       "   0.02161012962460518,\n",
       "   0.01999048702418804],\n",
       "  [2.7932510420214385e-05,\n",
       "   0.9997096061706543,\n",
       "   2.4092194507829845e-05,\n",
       "   1.646525925025344e-05,\n",
       "   1.6129462892422453e-05,\n",
       "   1.6956086255959235e-05,\n",
       "   2.1539437511819415e-05,\n",
       "   2.2373153115040623e-05,\n",
       "   2.4335489797522314e-05,\n",
       "   1.7792224753065966e-05,\n",
       "   2.0356405002530664e-05,\n",
       "   3.509387170197442e-05,\n",
       "   1.8110436940332875e-05,\n",
       "   1.4419360013562255e-05,\n",
       "   1.4847881175228395e-05],\n",
       "  [0.055058859288692474,\n",
       "   0.04919420927762985,\n",
       "   0.05664772167801857,\n",
       "   0.07399989664554596,\n",
       "   0.07967934757471085,\n",
       "   0.082305908203125,\n",
       "   0.04520675912499428,\n",
       "   0.10085493326187134,\n",
       "   0.10117033123970032,\n",
       "   0.043238017708063126,\n",
       "   0.0806855633854866,\n",
       "   0.12563005089759827,\n",
       "   0.04533838480710983,\n",
       "   0.03364589437842369,\n",
       "   0.027344146743416786],\n",
       "  [0.0009355745278298855,\n",
       "   0.000896776095032692,\n",
       "   0.0009399468544870615,\n",
       "   0.8861116766929626,\n",
       "   0.009404795244336128,\n",
       "   0.009918340481817722,\n",
       "   0.024291837587952614,\n",
       "   0.011989947408437729,\n",
       "   0.002589575247839093,\n",
       "   0.0018115945858880877,\n",
       "   0.027183692902326584,\n",
       "   0.01619011163711548,\n",
       "   0.006454849150031805,\n",
       "   0.0008300007320940495,\n",
       "   0.0004513250896707177],\n",
       "  [0.021218551322817802,\n",
       "   0.015877211466431618,\n",
       "   0.023829173296689987,\n",
       "   0.11086936295032501,\n",
       "   0.12089911103248596,\n",
       "   0.08633403480052948,\n",
       "   0.04817131906747818,\n",
       "   0.22017863392829895,\n",
       "   0.07459499686956406,\n",
       "   0.04638965427875519,\n",
       "   0.060234926640987396,\n",
       "   0.10571739077568054,\n",
       "   0.035576194524765015,\n",
       "   0.01609918661415577,\n",
       "   0.014010204002261162],\n",
       "  [0.007183174602687359,\n",
       "   0.006068067625164986,\n",
       "   0.01088811457157135,\n",
       "   0.008943452499806881,\n",
       "   0.0779723972082138,\n",
       "   0.2212289720773697,\n",
       "   0.03664618358016014,\n",
       "   0.23502855002880096,\n",
       "   0.22510765492916107,\n",
       "   0.08745463192462921,\n",
       "   0.016627691686153412,\n",
       "   0.0384838730096817,\n",
       "   0.016530055552721024,\n",
       "   0.0063220299780368805,\n",
       "   0.005515076220035553],\n",
       "  [0.0034150348510593176,\n",
       "   0.005166654475033283,\n",
       "   0.00397616159170866,\n",
       "   0.0053633530624210835,\n",
       "   0.008158475160598755,\n",
       "   0.01271277666091919,\n",
       "   0.16970250010490417,\n",
       "   0.026598431169986725,\n",
       "   0.01453727763146162,\n",
       "   0.713119387626648,\n",
       "   0.007398379035294056,\n",
       "   0.008757534436881542,\n",
       "   0.014090587384998798,\n",
       "   0.0034868817310780287,\n",
       "   0.003516556229442358],\n",
       "  [0.007020140998065472,\n",
       "   0.00782924797385931,\n",
       "   0.008587962947785854,\n",
       "   0.05723832547664642,\n",
       "   0.045296810567379,\n",
       "   0.03351450338959694,\n",
       "   0.02653764933347702,\n",
       "   0.042922645807266235,\n",
       "   0.019434189423918724,\n",
       "   0.028366943821310997,\n",
       "   0.3448033630847931,\n",
       "   0.10772685706615448,\n",
       "   0.25426188111305237,\n",
       "   0.009608656167984009,\n",
       "   0.006850983947515488],\n",
       "  [0.006401711143553257,\n",
       "   0.007786095142364502,\n",
       "   0.007370183244347572,\n",
       "   0.007672714535146952,\n",
       "   0.01534313801676035,\n",
       "   0.03348563611507416,\n",
       "   0.0270836241543293,\n",
       "   0.0109315300360322,\n",
       "   0.014446379616856575,\n",
       "   0.3457837700843811,\n",
       "   0.05458037927746773,\n",
       "   0.02838052064180374,\n",
       "   0.4266784191131592,\n",
       "   0.007389492355287075,\n",
       "   0.006666360888630152],\n",
       "  [0.005955484230071306,\n",
       "   0.00881356280297041,\n",
       "   0.005704079754650593,\n",
       "   0.01829722709953785,\n",
       "   0.01213375199586153,\n",
       "   0.015133792534470558,\n",
       "   0.022971050813794136,\n",
       "   0.011363179422914982,\n",
       "   0.011985580436885357,\n",
       "   0.10138233751058578,\n",
       "   0.029865272343158722,\n",
       "   0.019178668037056923,\n",
       "   0.7288942933082581,\n",
       "   0.004171451088041067,\n",
       "   0.004150253254920244],\n",
       "  [0.055401433259248734,\n",
       "   0.0484546460211277,\n",
       "   0.05398578941822052,\n",
       "   0.06384691596031189,\n",
       "   0.07333149760961533,\n",
       "   0.07533685117959976,\n",
       "   0.05309552699327469,\n",
       "   0.06760141998529434,\n",
       "   0.0636606439948082,\n",
       "   0.052319228649139404,\n",
       "   0.12269391119480133,\n",
       "   0.09758078306913376,\n",
       "   0.06085463985800743,\n",
       "   0.06363722681999207,\n",
       "   0.04819945618510246],\n",
       "  [0.06747952848672867,\n",
       "   0.06651806831359863,\n",
       "   0.06485441327095032,\n",
       "   0.06723154336214066,\n",
       "   0.06544717401266098,\n",
       "   0.06605444103479385,\n",
       "   0.0637412816286087,\n",
       "   0.0647592544555664,\n",
       "   0.06640926003456116,\n",
       "   0.06871878355741501,\n",
       "   0.07306013256311417,\n",
       "   0.0679658055305481,\n",
       "   0.06622321903705597,\n",
       "   0.06582117825746536,\n",
       "   0.06571603566408157]],\n",
       " 'premise_tokens': ['Two',\n",
       "  'women',\n",
       "  'are',\n",
       "  'wandering',\n",
       "  'along',\n",
       "  'the',\n",
       "  'shore',\n",
       "  'drinking',\n",
       "  'iced',\n",
       "  'tea',\n",
       "  '.',\n",
       "  '@@NULL@@'],\n",
       " 'hypothesis_tokens': ['Two',\n",
       "  'women',\n",
       "  'are',\n",
       "  'sitting',\n",
       "  'on',\n",
       "  'a',\n",
       "  'blanket',\n",
       "  'near',\n",
       "  'some',\n",
       "  'rocks',\n",
       "  'talking',\n",
       "  'about',\n",
       "  'politics',\n",
       "  '.',\n",
       "  '@@NULL@@'],\n",
       " 'label': 'contradiction'}"
      ]
     },
     "execution_count": 59,
     "metadata": {},
     "output_type": "execute_result"
    }
   ],
   "source": [
    "outputs"
   ]
  },
  {
   "cell_type": "markdown",
   "metadata": {},
   "source": [
    "# LAMA Probe into BART\n",
    "\n",
    "The goal of this section is to understand the amount of knowledge stored in BART using the [LAMA probe](https://github.com/facebookresearch/LAMA)."
   ]
  },
  {
   "cell_type": "code",
   "execution_count": null,
   "metadata": {},
   "outputs": [],
   "source": [
    "lama_data = load_dataset('lama')\n"
   ]
  },
  {
   "cell_type": "markdown",
   "metadata": {},
   "source": [
    "# From BERT to BART\n",
    "\n",
    "Insert the BART model in lieu of BERT to see if performance increases"
   ]
  },
  {
   "cell_type": "code",
   "execution_count": null,
   "metadata": {},
   "outputs": [],
   "source": []
  },
  {
   "cell_type": "markdown",
   "metadata": {},
   "source": [
    "# Inserting a Context Layer into the Pipeline\n",
    "\n",
    "- We will try two methods, one using DrQA and one using an autoregressive language model GPT2."
   ]
  },
  {
   "cell_type": "markdown",
   "metadata": {},
   "source": [
    "# Results\n",
    "\n",
    "Did it work?"
   ]
  },
  {
   "cell_type": "code",
   "execution_count": null,
   "metadata": {},
   "outputs": [],
   "source": []
  }
 ],
 "metadata": {
  "kernelspec": {
   "display_name": "Python 3",
   "language": "python",
   "name": "python3"
  },
  "language_info": {
   "codemirror_mode": {
    "name": "ipython",
    "version": 3
   },
   "file_extension": ".py",
   "mimetype": "text/x-python",
   "name": "python",
   "nbconvert_exporter": "python",
   "pygments_lexer": "ipython3",
   "version": "3.8.8"
  }
 },
 "nbformat": 4,
 "nbformat_minor": 4
}
